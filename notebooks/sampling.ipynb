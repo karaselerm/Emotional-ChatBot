{
 "cells": [
  {
   "cell_type": "markdown",
   "id": "5d3b421a",
   "metadata": {},
   "source": [
    "# Undersampling"
   ]
  },
  {
   "cell_type": "code",
   "execution_count": null,
   "id": "557a8e24",
   "metadata": {},
   "outputs": [],
   "source": [
    "import pandas as pd\n",
    "from sklearn.utils import resample\n",
    "\n",
    "def create_undersampled_dataset(\n",
    "    input_path: str = 'C://Users//a.karakuchukova//Desktop//Университет//Диплом//DataSets//dusha.crowd//dusha_crowd_processed.csv',\n",
    "    output_path: str = 'C://Users//a.karakuchukova//Desktop//Университет//Диплом//DataSets//dusha.crowd//undersampled_dusha_crowd.csv',\n",
    "    emotion_col: str = 'final_emotion',\n",
    "    random_state: int = 42\n",
    "):\n",
    "    df = pd.read_csv(input_path)\n",
    "    \n",
    "    min_count = df[emotion_col].value_counts().min()\n",
    "    print(f\"Минимальный размер класса: {min_count} примеров\")\n",
    "    \n",
    "    undersampled_frames = []\n",
    "    for emotion, group in df.groupby(emotion_col):\n",
    "        undersampled = resample(\n",
    "            group,\n",
    "            replace=False,\n",
    "            n_samples=min_count,\n",
    "            random_state=random_state\n",
    "        )\n",
    "        undersampled_frames.append(undersampled)\n",
    "        print(f\"Класс {emotion}: взято {len(undersampled)} примеров\")\n",
    "    \n",
    "    df_under = pd.concat(undersampled_frames).reset_index(drop=True)\n",
    "    \n",
    "    df_under.to_csv(output_path, index=False)\n",
    "    print(f\"Undersampled dataset saved to {output_path}\")"
   ]
  },
  {
   "cell_type": "code",
   "execution_count": 2,
   "id": "ed2b0935",
   "metadata": {},
   "outputs": [
    {
     "name": "stdout",
     "output_type": "stream",
     "text": [
      "Минимальный размер класса: 11208 примеров\n",
      "Класс angry: взято 11208 примеров\n",
      "Класс neutral: взято 11208 примеров\n",
      "Класс positive: взято 11208 примеров\n",
      "Класс sad: взято 11208 примеров\n",
      "Undersampled dataset saved to C://Users//a.karakuchukova//Desktop//Университет//Диплом//DataSets//dusha.crowd//undersampled_dusha_crowd.csv\n"
     ]
    }
   ],
   "source": [
    "create_undersampled_dataset()"
   ]
  },
  {
   "cell_type": "code",
   "execution_count": 3,
   "id": "9d55c0ac",
   "metadata": {},
   "outputs": [
    {
     "data": {
      "text/html": [
       "<div>\n",
       "<style scoped>\n",
       "    .dataframe tbody tr th:only-of-type {\n",
       "        vertical-align: middle;\n",
       "    }\n",
       "\n",
       "    .dataframe tbody tr th {\n",
       "        vertical-align: top;\n",
       "    }\n",
       "\n",
       "    .dataframe thead th {\n",
       "        text-align: right;\n",
       "    }\n",
       "</style>\n",
       "<table border=\"1\" class=\"dataframe\">\n",
       "  <thead>\n",
       "    <tr style=\"text-align: right;\">\n",
       "      <th></th>\n",
       "      <th>Unnamed: 0</th>\n",
       "      <th>speaker_text</th>\n",
       "      <th>final_emotion</th>\n",
       "    </tr>\n",
       "  </thead>\n",
       "  <tbody>\n",
       "    <tr>\n",
       "      <th>0</th>\n",
       "      <td>21666</td>\n",
       "      <td>выйди отсюда пожалуйста</td>\n",
       "      <td>angry</td>\n",
       "    </tr>\n",
       "    <tr>\n",
       "      <th>1</th>\n",
       "      <td>107358</td>\n",
       "      <td>убийственная внешность</td>\n",
       "      <td>angry</td>\n",
       "    </tr>\n",
       "  </tbody>\n",
       "</table>\n",
       "</div>"
      ],
      "text/plain": [
       "   Unnamed: 0             speaker_text final_emotion\n",
       "0       21666  выйди отсюда пожалуйста         angry\n",
       "1      107358   убийственная внешность         angry"
      ]
     },
     "execution_count": 3,
     "metadata": {},
     "output_type": "execute_result"
    }
   ],
   "source": [
    "df = pd.read_csv('C://Users//a.karakuchukova//Desktop//Университет//Диплом//DataSets//dusha.crowd//undersampled_dusha_crowd.csv')\n",
    "df.head(2)"
   ]
  },
  {
   "cell_type": "code",
   "execution_count": 4,
   "id": "f15cf210",
   "metadata": {},
   "outputs": [
    {
     "data": {
      "text/plain": [
       "(44832, 3)"
      ]
     },
     "execution_count": 4,
     "metadata": {},
     "output_type": "execute_result"
    }
   ],
   "source": [
    "df.shape"
   ]
  },
  {
   "cell_type": "code",
   "execution_count": 5,
   "id": "6bd9ff70",
   "metadata": {},
   "outputs": [
    {
     "data": {
      "text/plain": [
       "final_emotion\n",
       "angry       0.25\n",
       "neutral     0.25\n",
       "positive    0.25\n",
       "sad         0.25\n",
       "Name: proportion, dtype: float64"
      ]
     },
     "execution_count": 5,
     "metadata": {},
     "output_type": "execute_result"
    }
   ],
   "source": [
    "df.final_emotion.value_counts(normalize=True)"
   ]
  },
  {
   "cell_type": "markdown",
   "id": "15ef0d3a",
   "metadata": {},
   "source": [
    "# Oversampling"
   ]
  },
  {
   "cell_type": "code",
   "execution_count": null,
   "id": "63bae57b",
   "metadata": {},
   "outputs": [],
   "source": [
    "from dotenv import load_dotenv\n",
    "from openai import OpenAI\n",
    "from tqdm import tqdm\n",
    "import os\n",
    "import pandas as pd"
   ]
  },
  {
   "cell_type": "code",
   "execution_count": null,
   "id": "c700a162",
   "metadata": {},
   "outputs": [],
   "source": [
    "API_KEY=API_KEY\n",
    "\n",
    "client = OpenAI(\n",
    "    api_key=API_KEY,\n",
    "    base_url=\"https://api.proxyapi.ru/openai/v1\",\n",
    ")\n",
    "INPUT_CSV    = 'C://Users//a.karakuchukova//Desktop//Университет//Диплом//DataSets//dusha.crowd//dusha_crowd_processed.csv'\n",
    "OUTPUT_CSV   = 'C://Users//a.karakuchukova//Desktop//Университет//Диплом//DataSets//dusha.crowd//gpt_oversampled_dusha_crowd.csv'\n",
    "EMOTION    = 'final_emotion'\n",
    "TEXT       = 'speaker_text'\n",
    "MODEL      = 'gpt-4o-mini'"
   ]
  },
  {
   "cell_type": "code",
   "execution_count": null,
   "id": "ec059326",
   "metadata": {},
   "outputs": [
    {
     "name": "stdout",
     "output_type": "stream",
     "text": [
      "Текущий максимум: 87574\n"
     ]
    }
   ],
   "source": [
    "GEN_PER_ITER = 5 \n",
    "MAX_ITERS    = 10  \n",
    "df = pd.read_csv(INPUT_CSV)\n",
    "counts = df[EMOTION].value_counts()\n",
    "target = counts.max()\n",
    "print(\"Текущий максимум:\", target)\n",
    "\n",
    "new_rows = []"
   ]
  },
  {
   "cell_type": "code",
   "execution_count": null,
   "id": "a4087d99",
   "metadata": {},
   "outputs": [
    {
     "name": "stdout",
     "output_type": "stream",
     "text": [
      "\n",
      "Класс «sad»: нужно 69504 примеров, будем генерировать по 5 шт за раз\n",
      "  Итерация 1/10, осталось 69499\n",
      "  Итерация 2/10, осталось 69494\n",
      "  Итерация 3/10, осталось 69489\n",
      "  Итерация 4/10, осталось 69484\n",
      "  Итерация 5/10, осталось 69479\n",
      "  Итерация 6/10, осталось 69474\n",
      "  Итерация 7/10, осталось 69469\n",
      "  Итерация 8/10, осталось 69464\n",
      "  Итерация 9/10, осталось 69459\n",
      "  Итерация 10/10, осталось 69454\n",
      "Готово по классу «sad»: добавлено 50 примеров\n",
      "\n",
      "Класс «positive»: нужно 74473 примеров, будем генерировать по 5 шт за раз\n",
      "  Итерация 1/10, осталось 74468\n",
      "  Итерация 2/10, осталось 74463\n",
      "  Итерация 3/10, осталось 74458\n",
      "  Итерация 4/10, осталось 74453\n",
      "  Итерация 5/10, осталось 74448\n",
      "  Итерация 6/10, осталось 74443\n",
      "  Итерация 7/10, осталось 74438\n",
      "  Итерация 8/10, осталось 74433\n",
      "  Итерация 9/10, осталось 74427\n",
      "  Итерация 10/10, осталось 74422\n",
      "Готово по классу «positive»: добавлено 51 примеров\n",
      "\n",
      "Класс «angry»: нужно 76366 примеров, будем генерировать по 5 шт за раз\n",
      "  Итерация 1/10, осталось 76361\n",
      "  Итерация 2/10, осталось 76356\n",
      "  Итерация 3/10, осталось 76351\n",
      "  Итерация 4/10, осталось 76346\n",
      "  Итерация 5/10, осталось 76341\n",
      "  Итерация 6/10, осталось 76335\n",
      "  Итерация 7/10, осталось 76330\n",
      "  Итерация 8/10, осталось 76325\n",
      "  Итерация 9/10, осталось 76320\n",
      "  Итерация 10/10, осталось 76315\n",
      "Готово по классу «angry»: добавлено 51 примеров\n",
      "\n",
      "Финальные размеры классов:\n",
      "final_emotion\n",
      "neutral     87574\n",
      "sad         18120\n",
      "positive    13152\n",
      "angry       11259\n",
      "Name: count, dtype: int64\n",
      "Промежуточный результат сохранён в C://Users//a.karakuchukova//Desktop//Университет//Диплом//DataSets//dusha.crowd//gpt_oversampled_dusha_crowd.csv\n"
     ]
    }
   ],
   "source": [
    "for emotion, cnt in counts.items():\n",
    "    need = target - cnt\n",
    "    if need <= 0:\n",
    "        continue\n",
    "\n",
    "    print(f\"\\nКласс «{emotion}»: нужно {need} примеров, будем генерировать по {GEN_PER_ITER} шт за раз\")\n",
    "    few_shot = df[df[EMOTION]==emotion][TEXT].sample(3, random_state=42).tolist()\n",
    "    total_iters = min(MAX_ITERS, (need + GEN_PER_ITER - 1)//GEN_PER_ITER)\n",
    "\n",
    "    for it in range(total_iters):\n",
    "        if need <= 0:\n",
    "            break\n",
    "        batch = min(GEN_PER_ITER, need)\n",
    "\n",
    "        prompt = f\"Ниже примеры, выражающие эмоцию «{emotion}»:\\n\"\n",
    "        for ex in few_shot:\n",
    "            prompt += f\"- «{ex}»\\n\"\n",
    "        prompt += (\n",
    "            f\"\\nСгенерируй {batch} новых коротких реплик (≤15 слов), \"\n",
    "            \"оформи их списком:\\n\"\n",
    "        )\n",
    "        for i in range(1, batch+1):\n",
    "            prompt += f\"{i}. \\n\"\n",
    "\n",
    "        resp = client.chat.completions.create(\n",
    "            model=MODEL,\n",
    "            messages=[{\"role\":\"user\",\"content\":prompt}],\n",
    "        )\n",
    "        text = resp.choices[0].message.content\n",
    "\n",
    "        for line in text.splitlines():\n",
    "            clean = line.lstrip('0123456789. ').strip(' «»\"')\n",
    "            if clean and need>0:\n",
    "                new_rows.append({TEXT: clean, EMOTION: emotion})\n",
    "                need -= 1\n",
    "\n",
    "        print(f\"  Итерация {it+1}/{total_iters}, осталось {need}\")\n",
    "\n",
    "        pd.concat([df, pd.DataFrame(new_rows)]).to_csv(OUTPUT_CSV, index=False)\n",
    "\n",
    "    print(f\"Готово по классу «{emotion}»: добавлено {counts[emotion] + (target-cnt - need) - cnt} примеров\")\n",
    "\n",
    "print(\"\\nФинальные размеры классов:\")\n",
    "df_over = pd.concat([df, pd.DataFrame(new_rows)], ignore_index=True)\n",
    "print(df_over[EMOTION].value_counts())\n",
    "print(f\"Промежуточный результат сохранён в {OUTPUT_CSV}\")"
   ]
  },
  {
   "cell_type": "code",
   "execution_count": null,
   "id": "7c8559d9",
   "metadata": {},
   "outputs": [
    {
     "name": "stdout",
     "output_type": "stream",
     "text": [
      "Текущее распределение: {'neutral': 87574, 'sad': 18120, 'positive': 13152, 'angry': 11259}\n",
      "Будем генерить до 20000 примеров на класс\n"
     ]
    }
   ],
   "source": [
    "GEN_BATCH    = 10     \n",
    "TARGET_PER_CLASS = 20000  \n",
    "df_orig = df_over\n",
    "counts  = df_orig[EMOTION].value_counts().to_dict()\n",
    "\n",
    "print(\"Текущее распределение:\", counts)\n",
    "print(\"Будем генерить до\", TARGET_PER_CLASS, \"примеров на класс\")"
   ]
  },
  {
   "cell_type": "code",
   "execution_count": null,
   "id": "b01f94e9",
   "metadata": {},
   "outputs": [
    {
     "name": "stdout",
     "output_type": "stream",
     "text": [
      "\n",
      "Класс «sad»: нужно дополнить 1880 примеров\n"
     ]
    },
    {
     "name": "stderr",
     "output_type": "stream",
     "text": [
      "sad: 100%|██████████| 1880/1880 [09:18<00:00,  3.37it/s]\n"
     ]
    },
    {
     "name": "stdout",
     "output_type": "stream",
     "text": [
      "\n",
      "Класс «positive»: нужно дополнить 6848 примеров\n"
     ]
    },
    {
     "name": "stderr",
     "output_type": "stream",
     "text": [
      "positive: 100%|██████████| 6848/6848 [44:37<00:00,  2.56it/s]   \n"
     ]
    },
    {
     "name": "stdout",
     "output_type": "stream",
     "text": [
      "\n",
      "Класс «angry»: нужно дополнить 8741 примеров\n"
     ]
    },
    {
     "name": "stderr",
     "output_type": "stream",
     "text": [
      "angry: 100%|██████████| 8741/8741 [54:31<00:00,  2.67it/s]   \n"
     ]
    }
   ],
   "source": [
    "new_rows = []\n",
    "\n",
    "for emotion, cnt in counts.items():\n",
    "    need = TARGET_PER_CLASS - cnt\n",
    "    if need <= 0:\n",
    "        continue\n",
    "\n",
    "    few_shot = df_orig[df_orig[EMOTION] == emotion][TEXT] \\\n",
    "                  .sample(3, random_state=42).tolist()\n",
    "\n",
    "    print(f\"\\nКласс «{emotion}»: нужно дополнить {need} примеров\")\n",
    "    pbar = tqdm(total=need, desc=emotion)\n",
    "\n",
    "    while need > 0:\n",
    "        batch = min(GEN_BATCH, need)\n",
    "\n",
    "        prompt  = f\"Ниже примеры высказываний, выражающих эмоцию «{emotion}» (на русском):\\n\"\n",
    "        for txt in few_shot:\n",
    "            prompt += f\"- «{txt}»\\n\"\n",
    "        prompt += (\n",
    "            f\"\\nПожалуйста, сгенерируй {batch} новых коротких реплик \"\n",
    "            \"(не более 15 слов каждая) с той же эмоцией и оформи их в виде списка:\\n\"\n",
    "        )\n",
    "        for i in range(1, batch+1):\n",
    "            prompt += f\"{i}. \\n\"\n",
    "\n",
    "        resp = client.chat.completions.create(\n",
    "            model=MODEL,\n",
    "            messages=[{\"role\":\"user\",\"content\":prompt}],\n",
    "        )\n",
    "        text = resp.choices[0].message.content\n",
    "\n",
    "        for line in text.splitlines():\n",
    "            clean = line.lstrip('0123456789. ').strip(' «»\"')\n",
    "            if clean and need > 0:\n",
    "                new_rows.append({TEXT: clean, EMOTION: emotion})\n",
    "                need -= 1\n",
    "                pbar.update(1)\n",
    "                if need == 0:\n",
    "                    break\n",
    "\n",
    "    pbar.close()"
   ]
  },
  {
   "cell_type": "code",
   "execution_count": 26,
   "id": "e47caf68",
   "metadata": {},
   "outputs": [],
   "source": [
    "df = pd.read_csv('C://Users//a.karakuchukova//Desktop//Университет//Диплом//DataSets//dusha.crowd//gpt_oversampled_dusha_crowd.csv')"
   ]
  },
  {
   "cell_type": "code",
   "execution_count": 27,
   "id": "6d1b1e83",
   "metadata": {},
   "outputs": [
    {
     "data": {
      "text/html": [
       "<div>\n",
       "<style scoped>\n",
       "    .dataframe tbody tr th:only-of-type {\n",
       "        vertical-align: middle;\n",
       "    }\n",
       "\n",
       "    .dataframe tbody tr th {\n",
       "        vertical-align: top;\n",
       "    }\n",
       "\n",
       "    .dataframe thead th {\n",
       "        text-align: right;\n",
       "    }\n",
       "</style>\n",
       "<table border=\"1\" class=\"dataframe\">\n",
       "  <thead>\n",
       "    <tr style=\"text-align: right;\">\n",
       "      <th></th>\n",
       "      <th>Unnamed: 0</th>\n",
       "      <th>speaker_text</th>\n",
       "      <th>final_emotion</th>\n",
       "    </tr>\n",
       "  </thead>\n",
       "  <tbody>\n",
       "    <tr>\n",
       "      <th>0</th>\n",
       "      <td>0.0</td>\n",
       "      <td>2drots литвин</td>\n",
       "      <td>neutral</td>\n",
       "    </tr>\n",
       "    <tr>\n",
       "      <th>1</th>\n",
       "      <td>2.0</td>\n",
       "      <td>2gis брюс ли</td>\n",
       "      <td>positive</td>\n",
       "    </tr>\n",
       "    <tr>\n",
       "      <th>2</th>\n",
       "      <td>3.0</td>\n",
       "      <td>2gis ка дыши</td>\n",
       "      <td>neutral</td>\n",
       "    </tr>\n",
       "  </tbody>\n",
       "</table>\n",
       "</div>"
      ],
      "text/plain": [
       "   Unnamed: 0   speaker_text final_emotion\n",
       "0         0.0  2drots литвин       neutral\n",
       "1         2.0   2gis брюс ли      positive\n",
       "2         3.0   2gis ка дыши       neutral"
      ]
     },
     "execution_count": 27,
     "metadata": {},
     "output_type": "execute_result"
    }
   ],
   "source": [
    "df.head(3)"
   ]
  },
  {
   "cell_type": "code",
   "execution_count": 28,
   "id": "d52f3ef1",
   "metadata": {},
   "outputs": [
    {
     "data": {
      "text/plain": [
       "final_emotion\n",
       "neutral     87574\n",
       "sad         18120\n",
       "positive    13152\n",
       "angry       11259\n",
       "Name: count, dtype: int64"
      ]
     },
     "execution_count": 28,
     "metadata": {},
     "output_type": "execute_result"
    }
   ],
   "source": [
    "df.final_emotion.value_counts()"
   ]
  },
  {
   "cell_type": "code",
   "execution_count": null,
   "id": "e0a17a3c",
   "metadata": {},
   "outputs": [
    {
     "name": "stdout",
     "output_type": "stream",
     "text": [
      "final_emotion\n",
      "neutral     87574\n",
      "positive    20000\n",
      "sad         20000\n",
      "angry       20000\n",
      "Name: count, dtype: int64\n"
     ]
    }
   ],
   "source": [
    "df_over = pd.concat([df, pd.DataFrame(new_rows)], ignore_index=True)\n",
    "print(df_over[EMOTION].value_counts())"
   ]
  },
  {
   "cell_type": "code",
   "execution_count": 31,
   "id": "dfeb0c85",
   "metadata": {},
   "outputs": [
    {
     "data": {
      "text/plain": [
       "133628"
      ]
     },
     "execution_count": 31,
     "metadata": {},
     "output_type": "execute_result"
    }
   ],
   "source": [
    "len(df_over.speaker_text.unique())"
   ]
  },
  {
   "cell_type": "code",
   "execution_count": 32,
   "id": "efcf9be6",
   "metadata": {},
   "outputs": [
    {
     "data": {
      "text/plain": [
       "(147574, 3)"
      ]
     },
     "execution_count": 32,
     "metadata": {},
     "output_type": "execute_result"
    }
   ],
   "source": [
    "df_over.shape"
   ]
  },
  {
   "cell_type": "code",
   "execution_count": 35,
   "id": "2908858e",
   "metadata": {},
   "outputs": [],
   "source": [
    "df_over = df_over[['speaker_text','final_emotion']].drop_duplicates()"
   ]
  },
  {
   "cell_type": "code",
   "execution_count": 37,
   "id": "a1aafc18",
   "metadata": {},
   "outputs": [
    {
     "data": {
      "text/plain": [
       "(138462, 2)"
      ]
     },
     "execution_count": 37,
     "metadata": {},
     "output_type": "execute_result"
    }
   ],
   "source": [
    "df_over.shape"
   ]
  },
  {
   "cell_type": "code",
   "execution_count": 38,
   "id": "301550b8",
   "metadata": {},
   "outputs": [
    {
     "data": {
      "text/plain": [
       "133628"
      ]
     },
     "execution_count": 38,
     "metadata": {},
     "output_type": "execute_result"
    }
   ],
   "source": [
    "len(df_over.speaker_text.unique())"
   ]
  },
  {
   "cell_type": "code",
   "execution_count": 43,
   "id": "e2aa28e5",
   "metadata": {},
   "outputs": [
    {
     "data": {
      "text/html": [
       "<div>\n",
       "<style scoped>\n",
       "    .dataframe tbody tr th:only-of-type {\n",
       "        vertical-align: middle;\n",
       "    }\n",
       "\n",
       "    .dataframe tbody tr th {\n",
       "        vertical-align: top;\n",
       "    }\n",
       "\n",
       "    .dataframe thead th {\n",
       "        text-align: right;\n",
       "    }\n",
       "</style>\n",
       "<table border=\"1\" class=\"dataframe\">\n",
       "  <thead>\n",
       "    <tr style=\"text-align: right;\">\n",
       "      <th></th>\n",
       "      <th>speaker_text</th>\n",
       "      <th>final_emotion</th>\n",
       "    </tr>\n",
       "  </thead>\n",
       "  <tbody>\n",
       "    <tr>\n",
       "      <th>1</th>\n",
       "      <td>2gis брюс ли</td>\n",
       "      <td>2</td>\n",
       "    </tr>\n",
       "    <tr>\n",
       "      <th>21</th>\n",
       "      <td>a тупой что ли давай зеленоглазое такси</td>\n",
       "      <td>2</td>\n",
       "    </tr>\n",
       "    <tr>\n",
       "      <th>59</th>\n",
       "      <td>akula откуда она все знает</td>\n",
       "      <td>2</td>\n",
       "    </tr>\n",
       "    <tr>\n",
       "      <th>79</th>\n",
       "      <td>all hello</td>\n",
       "      <td>2</td>\n",
       "    </tr>\n",
       "    <tr>\n",
       "      <th>125</th>\n",
       "      <td>arkusha спокойной лучи</td>\n",
       "      <td>2</td>\n",
       "    </tr>\n",
       "    <tr>\n",
       "      <th>...</th>\n",
       "      <td>...</td>\n",
       "      <td>...</td>\n",
       "    </tr>\n",
       "    <tr>\n",
       "      <th>133480</th>\n",
       "      <td>ямщик гарик сукачев</td>\n",
       "      <td>2</td>\n",
       "    </tr>\n",
       "    <tr>\n",
       "      <th>133513</th>\n",
       "      <td>яндекс деньги</td>\n",
       "      <td>2</td>\n",
       "    </tr>\n",
       "    <tr>\n",
       "      <th>133541</th>\n",
       "      <td>яндекс такси правый руль</td>\n",
       "      <td>2</td>\n",
       "    </tr>\n",
       "    <tr>\n",
       "      <th>133600</th>\n",
       "      <td>ярославская еще летом</td>\n",
       "      <td>2</td>\n",
       "    </tr>\n",
       "    <tr>\n",
       "      <th>133627</th>\n",
       "      <td>ящерицы четыре ка</td>\n",
       "      <td>2</td>\n",
       "    </tr>\n",
       "  </tbody>\n",
       "</table>\n",
       "<p>4834 rows × 2 columns</p>\n",
       "</div>"
      ],
      "text/plain": [
       "                                   speaker_text  final_emotion\n",
       "1                                  2gis брюс ли              2\n",
       "21      a тупой что ли давай зеленоглазое такси              2\n",
       "59                   akula откуда она все знает              2\n",
       "79                                    all hello              2\n",
       "125                      arkusha спокойной лучи              2\n",
       "...                                         ...            ...\n",
       "133480                      ямщик гарик сукачев              2\n",
       "133513                            яндекс деньги              2\n",
       "133541                 яндекс такси правый руль              2\n",
       "133600                    ярославская еще летом              2\n",
       "133627                        ящерицы четыре ка              2\n",
       "\n",
       "[4834 rows x 2 columns]"
      ]
     },
     "execution_count": 43,
     "metadata": {},
     "output_type": "execute_result"
    }
   ],
   "source": [
    "df_over.groupby('speaker_text').agg({'final_emotion':'count'}).reset_index()[df_over.groupby('speaker_text').agg({'final_emotion':'count'}).reset_index().final_emotion > 1]"
   ]
  },
  {
   "cell_type": "code",
   "execution_count": 41,
   "id": "2e18a310",
   "metadata": {},
   "outputs": [
    {
     "data": {
      "text/html": [
       "<div>\n",
       "<style scoped>\n",
       "    .dataframe tbody tr th:only-of-type {\n",
       "        vertical-align: middle;\n",
       "    }\n",
       "\n",
       "    .dataframe tbody tr th {\n",
       "        vertical-align: top;\n",
       "    }\n",
       "\n",
       "    .dataframe thead th {\n",
       "        text-align: right;\n",
       "    }\n",
       "</style>\n",
       "<table border=\"1\" class=\"dataframe\">\n",
       "  <thead>\n",
       "    <tr style=\"text-align: right;\">\n",
       "      <th></th>\n",
       "      <th>speaker_text</th>\n",
       "      <th>final_emotion</th>\n",
       "    </tr>\n",
       "  </thead>\n",
       "  <tbody>\n",
       "    <tr>\n",
       "      <th>1</th>\n",
       "      <td>2gis брюс ли</td>\n",
       "      <td>positive</td>\n",
       "    </tr>\n",
       "    <tr>\n",
       "      <th>114153</th>\n",
       "      <td>2gis брюс ли</td>\n",
       "      <td>neutral</td>\n",
       "    </tr>\n",
       "  </tbody>\n",
       "</table>\n",
       "</div>"
      ],
      "text/plain": [
       "        speaker_text final_emotion\n",
       "1       2gis брюс ли      positive\n",
       "114153  2gis брюс ли       neutral"
      ]
     },
     "execution_count": 41,
     "metadata": {},
     "output_type": "execute_result"
    }
   ],
   "source": [
    "df_over[df_over['speaker_text'] == '2gis брюс ли']\t"
   ]
  },
  {
   "cell_type": "code",
   "execution_count": null,
   "id": "c4984b4c",
   "metadata": {},
   "outputs": [],
   "source": [
    "counts = df_over.groupby('speaker_text')['final_emotion'] \\\n",
    "                .nunique() \\\n",
    "                .reset_index(name='n_emotions')\n",
    "\n",
    "good_texts = counts.loc[counts['n_emotions']==1, 'speaker_text']\n",
    "df_clean = df_over[df_over['speaker_text'].isin(good_texts)].copy()\n"
   ]
  },
  {
   "cell_type": "code",
   "execution_count": 45,
   "id": "a87b4343",
   "metadata": {},
   "outputs": [
    {
     "data": {
      "text/plain": [
       "(128794, 2)"
      ]
     },
     "execution_count": 45,
     "metadata": {},
     "output_type": "execute_result"
    }
   ],
   "source": [
    "df_clean.shape"
   ]
  },
  {
   "cell_type": "code",
   "execution_count": 46,
   "id": "1bfbbfaf",
   "metadata": {},
   "outputs": [
    {
     "data": {
      "text/plain": [
       "128794"
      ]
     },
     "execution_count": 46,
     "metadata": {},
     "output_type": "execute_result"
    }
   ],
   "source": [
    "len(df_clean.speaker_text.unique())"
   ]
  },
  {
   "cell_type": "code",
   "execution_count": 48,
   "id": "c9e6197e",
   "metadata": {},
   "outputs": [
    {
     "data": {
      "text/html": [
       "<div>\n",
       "<style scoped>\n",
       "    .dataframe tbody tr th:only-of-type {\n",
       "        vertical-align: middle;\n",
       "    }\n",
       "\n",
       "    .dataframe tbody tr th {\n",
       "        vertical-align: top;\n",
       "    }\n",
       "\n",
       "    .dataframe thead th {\n",
       "        text-align: right;\n",
       "    }\n",
       "</style>\n",
       "<table border=\"1\" class=\"dataframe\">\n",
       "  <thead>\n",
       "    <tr style=\"text-align: right;\">\n",
       "      <th></th>\n",
       "      <th>speaker_text</th>\n",
       "      <th>final_emotion</th>\n",
       "    </tr>\n",
       "  </thead>\n",
       "  <tbody>\n",
       "    <tr>\n",
       "      <th>147567</th>\n",
       "      <td>Мне надоело это постоянное нытье!</td>\n",
       "      <td>angry</td>\n",
       "    </tr>\n",
       "    <tr>\n",
       "      <th>147568</th>\n",
       "      <td>Почему мне всегда приходится все решать?</td>\n",
       "      <td>angry</td>\n",
       "    </tr>\n",
       "    <tr>\n",
       "      <th>147570</th>\n",
       "      <td>Хватит говорить, сделай уже что-то!</td>\n",
       "      <td>angry</td>\n",
       "    </tr>\n",
       "    <tr>\n",
       "      <th>147571</th>\n",
       "      <td>Я не буду это терпеть!</td>\n",
       "      <td>angry</td>\n",
       "    </tr>\n",
       "  </tbody>\n",
       "</table>\n",
       "</div>"
      ],
      "text/plain": [
       "                                    speaker_text final_emotion\n",
       "147567         Мне надоело это постоянное нытье!         angry\n",
       "147568  Почему мне всегда приходится все решать?         angry\n",
       "147570       Хватит говорить, сделай уже что-то!         angry\n",
       "147571                    Я не буду это терпеть!         angry"
      ]
     },
     "execution_count": 48,
     "metadata": {},
     "output_type": "execute_result"
    }
   ],
   "source": [
    "df_clean.tail(4)"
   ]
  },
  {
   "cell_type": "code",
   "execution_count": 49,
   "id": "42fda5d9",
   "metadata": {},
   "outputs": [
    {
     "data": {
      "text/plain": [
       "final_emotion\n",
       "neutral     79973\n",
       "sad         16654\n",
       "positive    16568\n",
       "angry       15599\n",
       "Name: count, dtype: int64"
      ]
     },
     "execution_count": 49,
     "metadata": {},
     "output_type": "execute_result"
    }
   ],
   "source": [
    "df_clean.final_emotion.value_counts()"
   ]
  },
  {
   "cell_type": "code",
   "execution_count": 50,
   "id": "d5114b0a",
   "metadata": {},
   "outputs": [
    {
     "data": {
      "text/plain": [
       "final_emotion\n",
       "neutral     0.620937\n",
       "sad         0.129307\n",
       "positive    0.128640\n",
       "angry       0.121116\n",
       "Name: proportion, dtype: float64"
      ]
     },
     "execution_count": 50,
     "metadata": {},
     "output_type": "execute_result"
    }
   ],
   "source": [
    "df_clean.final_emotion.value_counts(normalize=True)"
   ]
  },
  {
   "cell_type": "code",
   "execution_count": 51,
   "id": "0fa0bb8c",
   "metadata": {},
   "outputs": [],
   "source": [
    "df_clean.to_csv('C://Users//a.karakuchukova//Desktop//Университет//Диплом//DataSets//dusha.crowd//gpt_oversampled_dusha_crowd.csv')"
   ]
  },
  {
   "cell_type": "code",
   "execution_count": null,
   "id": "8c7fe1ce",
   "metadata": {},
   "outputs": [
    {
     "name": "stdout",
     "output_type": "stream",
     "text": [
      "Текущее распределение: {'neutral': 79973, 'sad': 16654, 'positive': 16568, 'angry': 15599}\n",
      "Будем генерить до 40000 примеров на класс\n"
     ]
    }
   ],
   "source": [
    "GEN_BATCH    = 10  \n",
    "TARGET_PER_CLASS = 40000 \n",
    "df_orig = df_clean\n",
    "counts  = df_orig[EMOTION].value_counts().to_dict()\n",
    "\n",
    "print(\"Текущее распределение:\", counts)\n",
    "print(\"Будем генерить до\", TARGET_PER_CLASS, \"примеров на класс\")"
   ]
  },
  {
   "cell_type": "code",
   "execution_count": null,
   "id": "6a7bb734",
   "metadata": {},
   "outputs": [
    {
     "name": "stdout",
     "output_type": "stream",
     "text": [
      "\n",
      "Класс «sad»: нужно дополнить 23346 примеров\n"
     ]
    },
    {
     "name": "stderr",
     "output_type": "stream",
     "text": [
      "sad: 100%|██████████| 23346/23346 [2:26:05<00:00,  2.66it/s]   \n"
     ]
    },
    {
     "name": "stdout",
     "output_type": "stream",
     "text": [
      "\n",
      "Класс «positive»: нужно дополнить 23432 примеров\n"
     ]
    },
    {
     "name": "stderr",
     "output_type": "stream",
     "text": [
      "positive: 100%|██████████| 23432/23432 [2:18:44<00:00,  2.81it/s]  \n"
     ]
    },
    {
     "name": "stdout",
     "output_type": "stream",
     "text": [
      "\n",
      "Класс «angry»: нужно дополнить 24401 примеров\n"
     ]
    },
    {
     "name": "stderr",
     "output_type": "stream",
     "text": [
      "angry: 100%|██████████| 24401/24401 [3:35:05<00:00,  1.89it/s]  \n"
     ]
    }
   ],
   "source": [
    "new_rows = []\n",
    "\n",
    "for emotion, cnt in counts.items():\n",
    "    need = TARGET_PER_CLASS - cnt\n",
    "    if need <= 0:\n",
    "        continue\n",
    "\n",
    "    few_shot = df_orig[df_orig[EMOTION] == emotion][TEXT] \\\n",
    "                  .sample(3, random_state=42).tolist()\n",
    "\n",
    "    print(f\"\\nКласс «{emotion}»: нужно дополнить {need} примеров\")\n",
    "    pbar = tqdm(total=need, desc=emotion)\n",
    "\n",
    "    while need > 0:\n",
    "        batch = min(GEN_BATCH, need)\n",
    "\n",
    "        prompt  = f\"Ниже примеры высказываний, выражающих эмоцию «{emotion}» (на русском):\\n\"\n",
    "        for txt in few_shot:\n",
    "            prompt += f\"- «{txt}»\\n\"\n",
    "        prompt += (\n",
    "            f\"\\nПожалуйста, сгенерируй {batch} новых коротких реплик \"\n",
    "            \"(не более 15 слов каждая) с той же эмоцией и оформи их в виде списка:\\n\"\n",
    "        )\n",
    "        for i in range(1, batch+1):\n",
    "            prompt += f\"{i}. \\n\"\n",
    "\n",
    "        resp = client.chat.completions.create(\n",
    "            model=MODEL,\n",
    "            messages=[{\"role\":\"user\",\"content\":prompt}],\n",
    "        )\n",
    "        text = resp.choices[0].message.content\n",
    "\n",
    "        for line in text.splitlines():\n",
    "            clean = line.lstrip('0123456789. ').strip(' «»\"')\n",
    "            if clean and need > 0:\n",
    "                new_rows.append({TEXT: clean, EMOTION: emotion})\n",
    "                need -= 1\n",
    "                pbar.update(1)\n",
    "                if need == 0:\n",
    "                    break\n",
    "\n",
    "    pbar.close()"
   ]
  },
  {
   "cell_type": "code",
   "execution_count": 72,
   "id": "5ec36bb6",
   "metadata": {},
   "outputs": [],
   "source": [
    "df_new = pd.concat([df_clean, pd.DataFrame(new_rows)])"
   ]
  },
  {
   "cell_type": "code",
   "execution_count": 73,
   "id": "d358f683",
   "metadata": {},
   "outputs": [
    {
     "data": {
      "text/plain": [
       "(199973, 2)"
      ]
     },
     "execution_count": 73,
     "metadata": {},
     "output_type": "execute_result"
    }
   ],
   "source": [
    "df_new.shape"
   ]
  },
  {
   "cell_type": "code",
   "execution_count": null,
   "id": "a8e01fa0",
   "metadata": {},
   "outputs": [
    {
     "data": {
      "text/html": [
       "<div>\n",
       "<style scoped>\n",
       "    .dataframe tbody tr th:only-of-type {\n",
       "        vertical-align: middle;\n",
       "    }\n",
       "\n",
       "    .dataframe tbody tr th {\n",
       "        vertical-align: top;\n",
       "    }\n",
       "\n",
       "    .dataframe thead th {\n",
       "        text-align: right;\n",
       "    }\n",
       "</style>\n",
       "<table border=\"1\" class=\"dataframe\">\n",
       "  <thead>\n",
       "    <tr style=\"text-align: right;\">\n",
       "      <th></th>\n",
       "      <th>Unnamed: 0</th>\n",
       "      <th>speaker_text</th>\n",
       "      <th>final_emotion</th>\n",
       "    </tr>\n",
       "  </thead>\n",
       "  <tbody>\n",
       "    <tr>\n",
       "      <th>0</th>\n",
       "      <td>0.0</td>\n",
       "      <td>2drots литвин</td>\n",
       "      <td>neutral</td>\n",
       "    </tr>\n",
       "    <tr>\n",
       "      <th>1</th>\n",
       "      <td>2.0</td>\n",
       "      <td>2gis брюс ли</td>\n",
       "      <td>positive</td>\n",
       "    </tr>\n",
       "    <tr>\n",
       "      <th>2</th>\n",
       "      <td>3.0</td>\n",
       "      <td>2gis ка дыши</td>\n",
       "      <td>neutral</td>\n",
       "    </tr>\n",
       "  </tbody>\n",
       "</table>\n",
       "</div>"
      ],
      "text/plain": [
       "   Unnamed: 0   speaker_text final_emotion\n",
       "0         0.0  2drots литвин       neutral\n",
       "1         2.0   2gis брюс ли      positive\n",
       "2         3.0   2gis ка дыши       neutral"
      ]
     },
     "execution_count": 74,
     "metadata": {},
     "output_type": "execute_result"
    }
   ],
   "source": [
    "df_new.head(3)"
   ]
  },
  {
   "cell_type": "code",
   "execution_count": 75,
   "id": "bc44aab3",
   "metadata": {},
   "outputs": [
    {
     "data": {
      "text/plain": [
       "final_emotion\n",
       "neutral     79973\n",
       "positive    40000\n",
       "sad         40000\n",
       "angry       40000\n",
       "Name: count, dtype: int64"
      ]
     },
     "execution_count": 75,
     "metadata": {},
     "output_type": "execute_result"
    }
   ],
   "source": [
    "df_new.final_emotion.value_counts()"
   ]
  },
  {
   "cell_type": "code",
   "execution_count": 76,
   "id": "76dcfb4f",
   "metadata": {},
   "outputs": [
    {
     "data": {
      "text/plain": [
       "final_emotion\n",
       "neutral     0.399919\n",
       "positive    0.200027\n",
       "sad         0.200027\n",
       "angry       0.200027\n",
       "Name: proportion, dtype: float64"
      ]
     },
     "execution_count": 76,
     "metadata": {},
     "output_type": "execute_result"
    }
   ],
   "source": [
    "df_new.final_emotion.value_counts(normalize=True)"
   ]
  },
  {
   "cell_type": "code",
   "execution_count": 77,
   "id": "53bd48b8",
   "metadata": {},
   "outputs": [
    {
     "data": {
      "text/plain": [
       "176673"
      ]
     },
     "execution_count": 77,
     "metadata": {},
     "output_type": "execute_result"
    }
   ],
   "source": [
    "len(df_new.speaker_text.unique())"
   ]
  },
  {
   "cell_type": "code",
   "execution_count": 79,
   "id": "462a4cfb",
   "metadata": {},
   "outputs": [],
   "source": [
    "df_new = df_new.drop_duplicates()"
   ]
  },
  {
   "cell_type": "code",
   "execution_count": 80,
   "id": "db065b9d",
   "metadata": {},
   "outputs": [
    {
     "data": {
      "text/html": [
       "<div>\n",
       "<style scoped>\n",
       "    .dataframe tbody tr th:only-of-type {\n",
       "        vertical-align: middle;\n",
       "    }\n",
       "\n",
       "    .dataframe tbody tr th {\n",
       "        vertical-align: top;\n",
       "    }\n",
       "\n",
       "    .dataframe thead th {\n",
       "        text-align: right;\n",
       "    }\n",
       "</style>\n",
       "<table border=\"1\" class=\"dataframe\">\n",
       "  <thead>\n",
       "    <tr style=\"text-align: right;\">\n",
       "      <th></th>\n",
       "      <th>speaker_text</th>\n",
       "      <th>final_emotion</th>\n",
       "    </tr>\n",
       "  </thead>\n",
       "  <tbody>\n",
       "    <tr>\n",
       "      <th>33872</th>\n",
       "      <td>Почему всё всегда так сложно?</td>\n",
       "      <td>2</td>\n",
       "    </tr>\n",
       "    <tr>\n",
       "      <th>33884</th>\n",
       "      <td>Почему всё должно быть так сложно?</td>\n",
       "      <td>2</td>\n",
       "    </tr>\n",
       "    <tr>\n",
       "      <th>58592</th>\n",
       "      <td>Этот момент навсегда останется в моем сердце.</td>\n",
       "      <td>2</td>\n",
       "    </tr>\n",
       "  </tbody>\n",
       "</table>\n",
       "</div>"
      ],
      "text/plain": [
       "                                        speaker_text  final_emotion\n",
       "33872                  Почему всё всегда так сложно?              2\n",
       "33884             Почему всё должно быть так сложно?              2\n",
       "58592  Этот момент навсегда останется в моем сердце.              2"
      ]
     },
     "execution_count": 80,
     "metadata": {},
     "output_type": "execute_result"
    }
   ],
   "source": [
    "df_new.groupby('speaker_text').agg({'final_emotion':'count'}).reset_index()[df_new.groupby('speaker_text').agg({'final_emotion':'count'}).reset_index().final_emotion > 1]\n"
   ]
  },
  {
   "cell_type": "code",
   "execution_count": 81,
   "id": "3a398240",
   "metadata": {},
   "outputs": [
    {
     "data": {
      "text/html": [
       "<div>\n",
       "<style scoped>\n",
       "    .dataframe tbody tr th:only-of-type {\n",
       "        vertical-align: middle;\n",
       "    }\n",
       "\n",
       "    .dataframe tbody tr th {\n",
       "        vertical-align: top;\n",
       "    }\n",
       "\n",
       "    .dataframe thead th {\n",
       "        text-align: right;\n",
       "    }\n",
       "</style>\n",
       "<table border=\"1\" class=\"dataframe\">\n",
       "  <thead>\n",
       "    <tr style=\"text-align: right;\">\n",
       "      <th></th>\n",
       "      <th>speaker_text</th>\n",
       "      <th>final_emotion</th>\n",
       "    </tr>\n",
       "  </thead>\n",
       "  <tbody>\n",
       "    <tr>\n",
       "      <th>134980</th>\n",
       "      <td>Этот момент навсегда останется в моем сердце.</td>\n",
       "      <td>positive</td>\n",
       "    </tr>\n",
       "    <tr>\n",
       "      <th>848</th>\n",
       "      <td>Этот момент навсегда останется в моем сердце.</td>\n",
       "      <td>sad</td>\n",
       "    </tr>\n",
       "  </tbody>\n",
       "</table>\n",
       "</div>"
      ],
      "text/plain": [
       "                                         speaker_text final_emotion\n",
       "134980  Этот момент навсегда останется в моем сердце.      positive\n",
       "848     Этот момент навсегда останется в моем сердце.           sad"
      ]
     },
     "execution_count": 81,
     "metadata": {},
     "output_type": "execute_result"
    }
   ],
   "source": [
    "df_new[df_new.speaker_text == 'Этот момент навсегда останется в моем сердце.']"
   ]
  },
  {
   "cell_type": "code",
   "execution_count": null,
   "id": "8388d76e",
   "metadata": {},
   "outputs": [],
   "source": [
    "counts = df_new.groupby('speaker_text')['final_emotion'] \\\n",
    "                .nunique() \\\n",
    "                .reset_index(name='n_emotions')\n",
    "\n",
    "good_texts = counts.loc[counts['n_emotions']==1, 'speaker_text']\n",
    "df_clean = df_new[df_new['speaker_text'].isin(good_texts)].copy()"
   ]
  },
  {
   "cell_type": "code",
   "execution_count": 83,
   "id": "05fb18f1",
   "metadata": {},
   "outputs": [
    {
     "data": {
      "text/plain": [
       "final_emotion\n",
       "neutral     79973\n",
       "angry       34163\n",
       "sad         31954\n",
       "positive    30580\n",
       "Name: count, dtype: int64"
      ]
     },
     "execution_count": 83,
     "metadata": {},
     "output_type": "execute_result"
    }
   ],
   "source": [
    "df_clean.final_emotion.value_counts()"
   ]
  },
  {
   "cell_type": "code",
   "execution_count": 84,
   "id": "f00b6126",
   "metadata": {},
   "outputs": [
    {
     "data": {
      "text/plain": [
       "final_emotion\n",
       "neutral     0.452669\n",
       "angry       0.193372\n",
       "sad         0.180868\n",
       "positive    0.173091\n",
       "Name: proportion, dtype: float64"
      ]
     },
     "execution_count": 84,
     "metadata": {},
     "output_type": "execute_result"
    }
   ],
   "source": [
    "df_clean.final_emotion.value_counts(normalize=True)"
   ]
  },
  {
   "cell_type": "code",
   "execution_count": 85,
   "id": "8b59cbdf",
   "metadata": {},
   "outputs": [],
   "source": [
    "df_clean.to_csv('C://Users//a.karakuchukova//Desktop//Университет//Диплом//DataSets//dusha.crowd//gpt_oversampled_dusha_crowd.csv')"
   ]
  },
  {
   "cell_type": "code",
   "execution_count": 86,
   "id": "3db2b8d0",
   "metadata": {},
   "outputs": [
    {
     "data": {
      "text/plain": [
       "(176670, 2)"
      ]
     },
     "execution_count": 86,
     "metadata": {},
     "output_type": "execute_result"
    }
   ],
   "source": [
    "df_clean.shape"
   ]
  },
  {
   "cell_type": "code",
   "execution_count": null,
   "id": "ca257940",
   "metadata": {},
   "outputs": [
    {
     "name": "stdout",
     "output_type": "stream",
     "text": [
      "Текущее распределение: {'neutral': 79973, 'angry': 34163, 'sad': 31954, 'positive': 30580}\n",
      "Будем генерить до 35000 примеров на класс\n"
     ]
    }
   ],
   "source": [
    "GEN_BATCH    = 10    \n",
    "TARGET_PER_CLASS = 35000 \n",
    "df_orig = df_clean\n",
    "counts  = df_orig[EMOTION].value_counts().to_dict()\n",
    "\n",
    "print(\"Текущее распределение:\", counts)\n",
    "print(\"Будем генерить до\", TARGET_PER_CLASS, \"примеров на класс\")"
   ]
  },
  {
   "cell_type": "code",
   "execution_count": null,
   "id": "cb92dc86",
   "metadata": {},
   "outputs": [
    {
     "name": "stdout",
     "output_type": "stream",
     "text": [
      "\n",
      "Класс «angry»: нужно дополнить 837 примеров\n"
     ]
    },
    {
     "name": "stderr",
     "output_type": "stream",
     "text": [
      "angry: 100%|██████████| 837/837 [06:19<00:00,  2.21it/s]\n"
     ]
    },
    {
     "name": "stdout",
     "output_type": "stream",
     "text": [
      "\n",
      "Класс «sad»: нужно дополнить 3046 примеров\n"
     ]
    },
    {
     "name": "stderr",
     "output_type": "stream",
     "text": [
      "sad: 100%|██████████| 3046/3046 [22:00<00:00,  2.31it/s]\n"
     ]
    },
    {
     "name": "stdout",
     "output_type": "stream",
     "text": [
      "\n",
      "Класс «positive»: нужно дополнить 4420 примеров\n"
     ]
    },
    {
     "name": "stderr",
     "output_type": "stream",
     "text": [
      "positive: 100%|██████████| 4420/4420 [34:56<00:00,  2.11it/s]\n"
     ]
    }
   ],
   "source": [
    "new_rows = []\n",
    "\n",
    "for emotion, cnt in counts.items():\n",
    "    need = TARGET_PER_CLASS - cnt\n",
    "    if need <= 0:\n",
    "        continue\n",
    "\n",
    "    few_shot = df_orig[df_orig[EMOTION] == emotion][TEXT] \\\n",
    "                  .sample(3, random_state=42).tolist()\n",
    "\n",
    "    print(f\"\\nКласс «{emotion}»: нужно дополнить {need} примеров\")\n",
    "    pbar = tqdm(total=need, desc=emotion)\n",
    "\n",
    "    while need > 0:\n",
    "        batch = min(GEN_BATCH, need)\n",
    "\n",
    "        prompt  = f\"Ниже примеры высказываний, выражающих эмоцию «{emotion}» (на русском):\\n\"\n",
    "        for txt in few_shot:\n",
    "            prompt += f\"- «{txt}»\\n\"\n",
    "        prompt += (\n",
    "            f\"\\nПожалуйста, сгенерируй {batch} новых коротких реплик \"\n",
    "            \"(не более 15 слов каждая) с той же эмоцией и оформи их в виде списка:\\n\"\n",
    "        )\n",
    "        for i in range(1, batch+1):\n",
    "            prompt += f\"{i}. \\n\"\n",
    "\n",
    "        resp = client.chat.completions.create(\n",
    "            model=MODEL,\n",
    "            messages=[{\"role\":\"user\",\"content\":prompt}],\n",
    "        )\n",
    "        text = resp.choices[0].message.content\n",
    "\n",
    "        for line in text.splitlines():\n",
    "            clean = line.lstrip('0123456789. ').strip(' «»\"')\n",
    "            if clean and need > 0:\n",
    "                new_rows.append({TEXT: clean, EMOTION: emotion})\n",
    "                need -= 1\n",
    "                pbar.update(1)\n",
    "                if need == 0:\n",
    "                    break\n",
    "\n",
    "    pbar.close()"
   ]
  },
  {
   "cell_type": "code",
   "execution_count": 103,
   "id": "c6414c5f",
   "metadata": {},
   "outputs": [],
   "source": [
    "df_new = pd.concat([df_clean, pd.DataFrame(new_rows)])"
   ]
  },
  {
   "cell_type": "code",
   "execution_count": null,
   "id": "13a717fe",
   "metadata": {},
   "outputs": [],
   "source": [
    "counts = df_new.groupby('speaker_text')['final_emotion'] \\\n",
    "                .nunique() \\\n",
    "                .reset_index(name='n_emotions')\n",
    "\n",
    "good_texts = counts.loc[counts['n_emotions']==1, 'speaker_text']\n",
    "df_clean = df_new[df_new['speaker_text'].isin(good_texts)].copy()"
   ]
  },
  {
   "cell_type": "code",
   "execution_count": 110,
   "id": "da2c23f0",
   "metadata": {},
   "outputs": [
    {
     "data": {
      "text/plain": [
       "(184973, 2)"
      ]
     },
     "execution_count": 110,
     "metadata": {},
     "output_type": "execute_result"
    }
   ],
   "source": [
    "df_clean.shape"
   ]
  },
  {
   "cell_type": "code",
   "execution_count": 106,
   "id": "c34c2386",
   "metadata": {},
   "outputs": [
    {
     "data": {
      "text/plain": [
       "final_emotion\n",
       "neutral     79973\n",
       "positive    35000\n",
       "sad         35000\n",
       "angry       35000\n",
       "Name: count, dtype: int64"
      ]
     },
     "execution_count": 106,
     "metadata": {},
     "output_type": "execute_result"
    }
   ],
   "source": [
    "df_clean.final_emotion.value_counts()"
   ]
  },
  {
   "cell_type": "code",
   "execution_count": 107,
   "id": "dcd2181f",
   "metadata": {},
   "outputs": [
    {
     "data": {
      "text/plain": [
       "final_emotion\n",
       "neutral     0.432350\n",
       "positive    0.189217\n",
       "sad         0.189217\n",
       "angry       0.189217\n",
       "Name: proportion, dtype: float64"
      ]
     },
     "execution_count": 107,
     "metadata": {},
     "output_type": "execute_result"
    }
   ],
   "source": [
    "df_clean.final_emotion.value_counts(normalize=True)"
   ]
  },
  {
   "cell_type": "code",
   "execution_count": 109,
   "id": "bd62bda0",
   "metadata": {},
   "outputs": [
    {
     "data": {
      "text/plain": [
       "182587"
      ]
     },
     "execution_count": 109,
     "metadata": {},
     "output_type": "execute_result"
    }
   ],
   "source": [
    "len(df_clean.speaker_text.unique())"
   ]
  },
  {
   "cell_type": "code",
   "execution_count": 112,
   "id": "c894e160",
   "metadata": {},
   "outputs": [],
   "source": [
    "df_clean = df_clean.drop_duplicates()"
   ]
  },
  {
   "cell_type": "code",
   "execution_count": 113,
   "id": "872a587d",
   "metadata": {},
   "outputs": [
    {
     "data": {
      "text/plain": [
       "182587"
      ]
     },
     "execution_count": 113,
     "metadata": {},
     "output_type": "execute_result"
    }
   ],
   "source": [
    "len(df_clean.speaker_text.unique())"
   ]
  },
  {
   "cell_type": "code",
   "execution_count": 114,
   "id": "830055f9",
   "metadata": {},
   "outputs": [
    {
     "data": {
      "text/plain": [
       "(182587, 2)"
      ]
     },
     "execution_count": 114,
     "metadata": {},
     "output_type": "execute_result"
    }
   ],
   "source": [
    "df_clean.shape"
   ]
  },
  {
   "cell_type": "code",
   "execution_count": null,
   "id": "e97f24a8",
   "metadata": {},
   "outputs": [
    {
     "name": "stdout",
     "output_type": "stream",
     "text": [
      "Текущее распределение: {'neutral': 79973, 'angry': 34794, 'sad': 34294, 'positive': 33526}\n",
      "Будем генерить до 35000 примеров на класс\n"
     ]
    }
   ],
   "source": [
    "GEN_BATCH    = 10   \n",
    "TARGET_PER_CLASS = 35000\n",
    "df_orig = df_clean\n",
    "counts  = df_orig[EMOTION].value_counts().to_dict()\n",
    "\n",
    "print(\"Текущее распределение:\", counts)\n",
    "print(\"Будем генерить до\", TARGET_PER_CLASS, \"примеров на класс\")"
   ]
  },
  {
   "cell_type": "code",
   "execution_count": null,
   "id": "288fea7d",
   "metadata": {},
   "outputs": [
    {
     "name": "stdout",
     "output_type": "stream",
     "text": [
      "\n",
      "Класс «angry»: нужно дополнить 206 примеров\n"
     ]
    },
    {
     "name": "stderr",
     "output_type": "stream",
     "text": [
      "angry: 100%|██████████| 206/206 [01:43<00:00,  1.99it/s]\n"
     ]
    },
    {
     "name": "stdout",
     "output_type": "stream",
     "text": [
      "\n",
      "Класс «sad»: нужно дополнить 706 примеров\n"
     ]
    },
    {
     "name": "stderr",
     "output_type": "stream",
     "text": [
      "sad: 100%|██████████| 706/706 [06:02<00:00,  1.95it/s]\n"
     ]
    },
    {
     "name": "stdout",
     "output_type": "stream",
     "text": [
      "\n",
      "Класс «positive»: нужно дополнить 1474 примеров\n"
     ]
    },
    {
     "name": "stderr",
     "output_type": "stream",
     "text": [
      "positive: 100%|██████████| 1474/1474 [12:36<00:00,  1.95it/s]\n"
     ]
    }
   ],
   "source": [
    "\n",
    "new_rows = []\n",
    "\n",
    "for emotion, cnt in counts.items():\n",
    "    need = TARGET_PER_CLASS - cnt\n",
    "    if need <= 0:\n",
    "        continue\n",
    "\n",
    "    few_shot = df_orig[df_orig[EMOTION] == emotion][TEXT] \\\n",
    "                  .sample(3, random_state=42).tolist()\n",
    "\n",
    "    print(f\"\\nКласс «{emotion}»: нужно дополнить {need} примеров\")\n",
    "    pbar = tqdm(total=need, desc=emotion)\n",
    "\n",
    "    while need > 0:\n",
    "        batch = min(GEN_BATCH, need)\n",
    "\n",
    "        prompt  = f\"Ниже примеры высказываний, выражающих эмоцию «{emotion}» (на русском):\\n\"\n",
    "        for txt in few_shot:\n",
    "            prompt += f\"- «{txt}»\\n\"\n",
    "        prompt += (\n",
    "            f\"\\nПожалуйста, сгенерируй {batch} новых коротких реплик \"\n",
    "            \"(не более 15 слов каждая) с той же эмоцией и оформи их в виде списка:\\n\"\n",
    "        )\n",
    "        for i in range(1, batch+1):\n",
    "            prompt += f\"{i}. \\n\"\n",
    "\n",
    "        resp = client.chat.completions.create(\n",
    "            model=MODEL,\n",
    "            messages=[{\"role\":\"user\",\"content\":prompt}],\n",
    "        )\n",
    "        text = resp.choices[0].message.content\n",
    "\n",
    "        for line in text.splitlines():\n",
    "            clean = line.lstrip('0123456789. ').strip(' «»\"')\n",
    "            if clean and need > 0:\n",
    "                new_rows.append({TEXT: clean, EMOTION: emotion})\n",
    "                need -= 1\n",
    "                pbar.update(1)\n",
    "                if need == 0:\n",
    "                    break\n",
    "\n",
    "    pbar.close()"
   ]
  },
  {
   "cell_type": "code",
   "execution_count": null,
   "id": "ae18c6e7",
   "metadata": {},
   "outputs": [],
   "source": [
    "df_new = pd.concat([df_clean, pd.DataFrame(new_rows)])\n",
    "counts = df_new.groupby('speaker_text')['final_emotion'] \\\n",
    "                .nunique() \\\n",
    "                .reset_index(name='n_emotions')\n",
    "\n",
    "good_texts = counts.loc[counts['n_emotions']==1, 'speaker_text']\n",
    "df_clean = df_new[df_new['speaker_text'].isin(good_texts)].copy()"
   ]
  },
  {
   "cell_type": "code",
   "execution_count": 119,
   "id": "01d39761",
   "metadata": {},
   "outputs": [
    {
     "data": {
      "text/plain": [
       "(184973, 2)"
      ]
     },
     "execution_count": 119,
     "metadata": {},
     "output_type": "execute_result"
    }
   ],
   "source": [
    "df_clean.shape"
   ]
  },
  {
   "cell_type": "code",
   "execution_count": 121,
   "id": "ed23797a",
   "metadata": {},
   "outputs": [
    {
     "data": {
      "text/plain": [
       "184326"
      ]
     },
     "execution_count": 121,
     "metadata": {},
     "output_type": "execute_result"
    }
   ],
   "source": [
    "len(df_clean.speaker_text.unique())"
   ]
  },
  {
   "cell_type": "code",
   "execution_count": 123,
   "id": "867119b8",
   "metadata": {},
   "outputs": [],
   "source": [
    "df_clean = df_clean.drop_duplicates()"
   ]
  },
  {
   "cell_type": "code",
   "execution_count": 124,
   "id": "d65b3fa6",
   "metadata": {},
   "outputs": [
    {
     "data": {
      "text/plain": [
       "((184326, 2), 184326)"
      ]
     },
     "execution_count": 124,
     "metadata": {},
     "output_type": "execute_result"
    }
   ],
   "source": [
    "df_clean.shape, len(df_clean.speaker_text.unique())"
   ]
  },
  {
   "cell_type": "code",
   "execution_count": 125,
   "id": "a31b2cca",
   "metadata": {},
   "outputs": [
    {
     "data": {
      "text/plain": [
       "final_emotion\n",
       "neutral     79973\n",
       "angry       34959\n",
       "sad         34949\n",
       "positive    34445\n",
       "Name: count, dtype: int64"
      ]
     },
     "execution_count": 125,
     "metadata": {},
     "output_type": "execute_result"
    }
   ],
   "source": [
    "df_clean.final_emotion.value_counts()"
   ]
  },
  {
   "cell_type": "code",
   "execution_count": 126,
   "id": "0d6e3725",
   "metadata": {},
   "outputs": [
    {
     "data": {
      "text/plain": [
       "final_emotion\n",
       "neutral     0.433867\n",
       "angry       0.189659\n",
       "sad         0.189604\n",
       "positive    0.186870\n",
       "Name: proportion, dtype: float64"
      ]
     },
     "execution_count": 126,
     "metadata": {},
     "output_type": "execute_result"
    }
   ],
   "source": [
    "df_clean.final_emotion.value_counts(normalize=True)"
   ]
  },
  {
   "cell_type": "code",
   "execution_count": null,
   "id": "847235bd",
   "metadata": {},
   "outputs": [
    {
     "name": "stdout",
     "output_type": "stream",
     "text": [
      "Текущее распределение: {'neutral': 79973, 'angry': 34959, 'sad': 34949, 'positive': 34445}\n",
      "Будем генерить до 40000 примеров на класс\n"
     ]
    }
   ],
   "source": [
    "GEN_BATCH    = 10    \n",
    "TARGET_PER_CLASS = 40000 \n",
    "df_orig = df_clean\n",
    "counts  = df_orig[EMOTION].value_counts().to_dict()\n",
    "\n",
    "print(\"Текущее распределение:\", counts)\n",
    "print(\"Будем генерить до\", TARGET_PER_CLASS, \"примеров на класс\")"
   ]
  },
  {
   "cell_type": "code",
   "execution_count": null,
   "id": "5db96d98",
   "metadata": {},
   "outputs": [
    {
     "name": "stdout",
     "output_type": "stream",
     "text": [
      "\n",
      "Класс «angry»: нужно дополнить 5041 примеров\n"
     ]
    },
    {
     "name": "stderr",
     "output_type": "stream",
     "text": [
      "angry: 100%|██████████| 5041/5041 [1:09:02<00:00,  1.22it/s]\n"
     ]
    },
    {
     "name": "stdout",
     "output_type": "stream",
     "text": [
      "\n",
      "Класс «sad»: нужно дополнить 5051 примеров\n"
     ]
    },
    {
     "name": "stderr",
     "output_type": "stream",
     "text": [
      "sad: 100%|██████████| 5051/5051 [1:07:19<00:00,  1.25it/s]\n"
     ]
    },
    {
     "name": "stdout",
     "output_type": "stream",
     "text": [
      "\n",
      "Класс «positive»: нужно дополнить 5555 примеров\n"
     ]
    },
    {
     "name": "stderr",
     "output_type": "stream",
     "text": [
      "positive: 100%|██████████| 5555/5555 [52:23<00:00,  1.77it/s]  \n"
     ]
    }
   ],
   "source": [
    "from tqdm import tqdm\n",
    "seen_texts = set(df_orig[TEXT].tolist())\n",
    "\n",
    "new_rows = []\n",
    "\n",
    "for emotion, cnt in counts.items():\n",
    "    need = TARGET_PER_CLASS - cnt\n",
    "    if need <= 0:\n",
    "        continue\n",
    "\n",
    "    few_shot = df_orig[df_orig[EMOTION] == emotion][TEXT] \\\n",
    "                  .sample(3, random_state=42).tolist()\n",
    "\n",
    "    print(f\"\\nКласс «{emotion}»: нужно дополнить {need} примеров\")\n",
    "    pbar = tqdm(total=need, desc=emotion)\n",
    "\n",
    "    while need > 0:\n",
    "        batch = min(GEN_BATCH, need)\n",
    "\n",
    "        prompt  = f\"Ниже примеры высказываний, выражающих эмоцию «{emotion}» (на русском):\\n\"\n",
    "        for txt in few_shot:\n",
    "            prompt += f\"- «{txt}»\\n\"\n",
    "        prompt += (\n",
    "            f\"\\nПожалуйста, сгенерируй {batch} новых коротких реплик \"\n",
    "            \"(не более 15 слов каждая) с той же эмоцией и оформи их в виде списка:\\n\"\n",
    "        )\n",
    "        for i in range(1, batch+1):\n",
    "            prompt += f\"{i}. \\n\"\n",
    "\n",
    "        resp = client.chat.completions.create(\n",
    "            model=MODEL,\n",
    "            messages=[{\"role\":\"user\",\"content\":prompt}],\n",
    "        )\n",
    "        text = resp.choices[0].message.content\n",
    "\n",
    "        for line in text.splitlines():\n",
    "            clean = line.lstrip('0123456789. ').strip(' «»\"')\n",
    "            if not clean:\n",
    "                continue\n",
    "\n",
    "            if clean in seen_texts:\n",
    "                continue \n",
    "            new_rows.append({TEXT: clean, EMOTION: emotion})\n",
    "            seen_texts.add(clean)\n",
    "            need -= 1\n",
    "            pbar.update(1)\n",
    "\n",
    "            if need == 0:\n",
    "                break\n",
    "\n",
    "    pbar.close()\n",
    "\n",
    "df_synthetic = pd.DataFrame(new_rows)\n"
   ]
  },
  {
   "cell_type": "code",
   "execution_count": null,
   "id": "6bb7f519",
   "metadata": {},
   "outputs": [],
   "source": [
    "df_new = pd.concat([df_clean, df_synthetic])\n",
    "counts = df_new.groupby('speaker_text')['final_emotion'] \\\n",
    "                .nunique() \\\n",
    "                .reset_index(name='n_emotions')\n",
    "\n",
    "good_texts = counts.loc[counts['n_emotions']==1, 'speaker_text']\n",
    "df_clean = df_new[df_new['speaker_text'].isin(good_texts)].copy()"
   ]
  },
  {
   "cell_type": "code",
   "execution_count": 130,
   "id": "c5107e3a",
   "metadata": {},
   "outputs": [],
   "source": [
    "df_clean = df_clean.drop_duplicates()"
   ]
  },
  {
   "cell_type": "code",
   "execution_count": 131,
   "id": "b1877f41",
   "metadata": {},
   "outputs": [
    {
     "data": {
      "text/plain": [
       "((199973, 2), 199973)"
      ]
     },
     "execution_count": 131,
     "metadata": {},
     "output_type": "execute_result"
    }
   ],
   "source": [
    "df_clean.shape, len(df_clean.speaker_text.unique())"
   ]
  },
  {
   "cell_type": "code",
   "execution_count": 132,
   "id": "04c37598",
   "metadata": {},
   "outputs": [
    {
     "data": {
      "text/plain": [
       "final_emotion\n",
       "neutral     0.399919\n",
       "positive    0.200027\n",
       "sad         0.200027\n",
       "angry       0.200027\n",
       "Name: proportion, dtype: float64"
      ]
     },
     "execution_count": 132,
     "metadata": {},
     "output_type": "execute_result"
    }
   ],
   "source": [
    "df_clean.final_emotion.value_counts(normalize=True)"
   ]
  },
  {
   "cell_type": "code",
   "execution_count": 133,
   "id": "626f5285",
   "metadata": {},
   "outputs": [
    {
     "data": {
      "text/plain": [
       "final_emotion\n",
       "neutral     79973\n",
       "positive    40000\n",
       "sad         40000\n",
       "angry       40000\n",
       "Name: count, dtype: int64"
      ]
     },
     "execution_count": 133,
     "metadata": {},
     "output_type": "execute_result"
    }
   ],
   "source": [
    "df_clean.final_emotion.value_counts()"
   ]
  },
  {
   "cell_type": "code",
   "execution_count": null,
   "id": "3a981602",
   "metadata": {},
   "outputs": [
    {
     "name": "stdout",
     "output_type": "stream",
     "text": [
      "Текущее распределение: {'neutral': 79973, 'positive': 40000, 'sad': 40000, 'angry': 40000}\n",
      "Будем генерить до 42000 примеров на класс\n"
     ]
    }
   ],
   "source": [
    "GEN_BATCH    = 10     \n",
    "TARGET_PER_CLASS = 42000  \n",
    "df_orig = df_clean\n",
    "counts  = df_orig[EMOTION].value_counts().to_dict()\n",
    "\n",
    "print(\"Текущее распределение:\", counts)\n",
    "print(\"Будем генерить до\", TARGET_PER_CLASS, \"примеров на класс\")"
   ]
  },
  {
   "cell_type": "code",
   "execution_count": null,
   "id": "84914492",
   "metadata": {},
   "outputs": [
    {
     "name": "stdout",
     "output_type": "stream",
     "text": [
      "\n",
      "Класс «positive»: нужно дополнить 2000 примеров\n"
     ]
    },
    {
     "name": "stderr",
     "output_type": "stream",
     "text": [
      "positive: 100%|██████████| 2000/2000 [16:32<00:00,  2.01it/s]\n"
     ]
    },
    {
     "name": "stdout",
     "output_type": "stream",
     "text": [
      "\n",
      "Класс «sad»: нужно дополнить 2000 примеров\n"
     ]
    },
    {
     "name": "stderr",
     "output_type": "stream",
     "text": [
      "sad: 100%|██████████| 2000/2000 [24:16<00:00,  1.37it/s]  \n"
     ]
    },
    {
     "name": "stdout",
     "output_type": "stream",
     "text": [
      "\n",
      "Класс «angry»: нужно дополнить 2000 примеров\n"
     ]
    },
    {
     "name": "stderr",
     "output_type": "stream",
     "text": [
      "angry: 100%|██████████| 2000/2000 [14:59<00:00,  2.22it/s]\n"
     ]
    }
   ],
   "source": [
    "from tqdm import tqdm\n",
    "\n",
    "seen_texts = set(df_orig[TEXT].tolist())\n",
    "\n",
    "new_rows = []\n",
    "\n",
    "for emotion, cnt in counts.items():\n",
    "    need = TARGET_PER_CLASS - cnt\n",
    "    if need <= 0:\n",
    "        continue\n",
    "\n",
    "    few_shot = df_orig[df_orig[EMOTION] == emotion][TEXT] \\\n",
    "                  .sample(3, random_state=42).tolist()\n",
    "\n",
    "    print(f\"\\nКласс «{emotion}»: нужно дополнить {need} примеров\")\n",
    "    pbar = tqdm(total=need, desc=emotion)\n",
    "\n",
    "    while need > 0:\n",
    "        batch = min(GEN_BATCH, need)\n",
    "\n",
    "        prompt  = f\"Ниже примеры высказываний, выражающих эмоцию «{emotion}» (на русском):\\n\"\n",
    "        for txt in few_shot:\n",
    "            prompt += f\"- «{txt}»\\n\"\n",
    "        prompt += (\n",
    "            f\"\\nПожалуйста, сгенерируй {batch} новых коротких реплик \"\n",
    "            \"(не более 15 слов каждая) с той же эмоцией и оформи их в виде списка:\\n\"\n",
    "        )\n",
    "        for i in range(1, batch+1):\n",
    "            prompt += f\"{i}. \\n\"\n",
    "\n",
    "        resp = client.chat.completions.create(\n",
    "            model=MODEL,\n",
    "            messages=[{\"role\":\"user\",\"content\":prompt}],\n",
    "        )\n",
    "        text = resp.choices[0].message.content\n",
    "\n",
    "        for line in text.splitlines():\n",
    "            clean = line.lstrip('0123456789. ').strip(' «»\"')\n",
    "            if not clean:\n",
    "                continue\n",
    "\n",
    "            if clean in seen_texts:\n",
    "                continue \n",
    "            new_rows.append({TEXT: clean, EMOTION: emotion})\n",
    "            seen_texts.add(clean)\n",
    "            need -= 1\n",
    "            pbar.update(1)\n",
    "\n",
    "            if need == 0:\n",
    "                break\n",
    "\n",
    "    pbar.close()\n",
    "\n",
    "df_synthetic = pd.DataFrame(new_rows)"
   ]
  },
  {
   "cell_type": "code",
   "execution_count": null,
   "id": "468b22a3",
   "metadata": {},
   "outputs": [],
   "source": [
    "df_new = pd.concat([df_clean, df_synthetic])\n",
    "counts = df_new.groupby('speaker_text')['final_emotion'] \\\n",
    "                .nunique() \\\n",
    "                .reset_index(name='n_emotions')\n",
    "\n",
    "good_texts = counts.loc[counts['n_emotions']==1, 'speaker_text']\n",
    "df_clean = df_new[df_new['speaker_text'].isin(good_texts)].copy()"
   ]
  },
  {
   "cell_type": "code",
   "execution_count": 138,
   "id": "92ec5b91",
   "metadata": {},
   "outputs": [],
   "source": [
    "df_clean = df_clean.drop_duplicates()"
   ]
  },
  {
   "cell_type": "code",
   "execution_count": 139,
   "id": "c1215f72",
   "metadata": {},
   "outputs": [
    {
     "data": {
      "text/plain": [
       "((205973, 2), 205973)"
      ]
     },
     "execution_count": 139,
     "metadata": {},
     "output_type": "execute_result"
    }
   ],
   "source": [
    "df_clean.shape, len(df_clean.speaker_text.unique())"
   ]
  },
  {
   "cell_type": "code",
   "execution_count": 140,
   "id": "4d4c6450",
   "metadata": {},
   "outputs": [
    {
     "data": {
      "text/plain": [
       "final_emotion\n",
       "neutral     0.388269\n",
       "positive    0.203910\n",
       "sad         0.203910\n",
       "angry       0.203910\n",
       "Name: proportion, dtype: float64"
      ]
     },
     "execution_count": 140,
     "metadata": {},
     "output_type": "execute_result"
    }
   ],
   "source": [
    "df_clean.final_emotion.value_counts(normalize=True)"
   ]
  },
  {
   "cell_type": "code",
   "execution_count": 141,
   "id": "1cae5724",
   "metadata": {},
   "outputs": [
    {
     "data": {
      "text/plain": [
       "final_emotion\n",
       "neutral     79973\n",
       "positive    42000\n",
       "sad         42000\n",
       "angry       42000\n",
       "Name: count, dtype: int64"
      ]
     },
     "execution_count": 141,
     "metadata": {},
     "output_type": "execute_result"
    }
   ],
   "source": [
    "df_clean.final_emotion.value_counts()"
   ]
  },
  {
   "cell_type": "code",
   "execution_count": null,
   "id": "cd6dbbfc",
   "metadata": {},
   "outputs": [
    {
     "name": "stdout",
     "output_type": "stream",
     "text": [
      "Текущее распределение: {'neutral': 79973, 'positive': 42000, 'sad': 42000, 'angry': 42000}\n",
      "Будем генерить до 45000 примеров на класс\n"
     ]
    }
   ],
   "source": [
    "GEN_BATCH    = 10     \n",
    "TARGET_PER_CLASS = 45000  \n",
    "\n",
    "df_orig = df_clean\n",
    "counts  = df_orig[EMOTION].value_counts().to_dict()\n",
    "\n",
    "print(\"Текущее распределение:\", counts)\n",
    "print(\"Будем генерить до\", TARGET_PER_CLASS, \"примеров на класс\")"
   ]
  },
  {
   "cell_type": "code",
   "execution_count": null,
   "id": "d06a40ec",
   "metadata": {},
   "outputs": [
    {
     "name": "stdout",
     "output_type": "stream",
     "text": [
      "\n",
      "Класс «positive»: нужно дополнить 3000 примеров\n"
     ]
    },
    {
     "name": "stderr",
     "output_type": "stream",
     "text": [
      "positive: 100%|██████████| 3000/3000 [26:47<00:00,  1.87it/s]\n"
     ]
    },
    {
     "name": "stdout",
     "output_type": "stream",
     "text": [
      "\n",
      "Класс «sad»: нужно дополнить 3000 примеров\n"
     ]
    },
    {
     "name": "stderr",
     "output_type": "stream",
     "text": [
      "sad: 100%|██████████| 3000/3000 [30:11<00:00,  1.66it/s]  \n"
     ]
    },
    {
     "name": "stdout",
     "output_type": "stream",
     "text": [
      "\n",
      "Класс «angry»: нужно дополнить 3000 примеров\n"
     ]
    },
    {
     "name": "stderr",
     "output_type": "stream",
     "text": [
      "angry: 100%|██████████| 3000/3000 [34:08<00:00,  1.46it/s]  \n"
     ]
    }
   ],
   "source": [
    "from tqdm import tqdm\n",
    "\n",
    "seen_texts = set(df_orig[TEXT].tolist())\n",
    "\n",
    "new_rows = []\n",
    "\n",
    "for emotion, cnt in counts.items():\n",
    "    need = TARGET_PER_CLASS - cnt\n",
    "    if need <= 0:\n",
    "        continue\n",
    "\n",
    "    few_shot = df_orig[df_orig[EMOTION] == emotion][TEXT] \\\n",
    "                  .sample(3, random_state=42).tolist()\n",
    "\n",
    "    print(f\"\\nКласс «{emotion}»: нужно дополнить {need} примеров\")\n",
    "    pbar = tqdm(total=need, desc=emotion)\n",
    "\n",
    "    while need > 0:\n",
    "        batch = min(GEN_BATCH, need)\n",
    "\n",
    "        prompt  = f\"Ниже примеры высказываний, выражающих эмоцию «{emotion}» (на русском):\\n\"\n",
    "        for txt in few_shot:\n",
    "            prompt += f\"- «{txt}»\\n\"\n",
    "        prompt += (\n",
    "            f\"\\nПожалуйста, сгенерируй {batch} новых коротких реплик \"\n",
    "            \"(не более 15 слов каждая) с той же эмоцией и оформи их в виде списка:\\n\"\n",
    "        )\n",
    "        for i in range(1, batch+1):\n",
    "            prompt += f\"{i}. \\n\"\n",
    "\n",
    "        resp = client.chat.completions.create(\n",
    "            model=MODEL,\n",
    "            messages=[{\"role\":\"user\",\"content\":prompt}],\n",
    "        )\n",
    "        text = resp.choices[0].message.content\n",
    "\n",
    "        for line in text.splitlines():\n",
    "            clean = line.lstrip('0123456789. ').strip(' «»\"')\n",
    "            if not clean:\n",
    "                continue\n",
    "\n",
    "            if clean in seen_texts:\n",
    "                continue  \n",
    "            new_rows.append({TEXT: clean, EMOTION: emotion})\n",
    "            seen_texts.add(clean)\n",
    "            need -= 1\n",
    "            pbar.update(1)\n",
    "\n",
    "            if need == 0:\n",
    "                break\n",
    "\n",
    "    pbar.close()\n",
    "\n",
    "df_synthetic = pd.DataFrame(new_rows)"
   ]
  },
  {
   "cell_type": "code",
   "execution_count": null,
   "id": "11ce47a0",
   "metadata": {},
   "outputs": [],
   "source": [
    "df_new = pd.concat([df_clean, df_synthetic])\n",
    "counts = df_new.groupby('speaker_text')['final_emotion'] \\\n",
    "                .nunique() \\\n",
    "                .reset_index(name='n_emotions')\n",
    "\n",
    "good_texts = counts.loc[counts['n_emotions']==1, 'speaker_text']\n",
    "df_clean = df_new[df_new['speaker_text'].isin(good_texts)].copy()"
   ]
  },
  {
   "cell_type": "code",
   "execution_count": 145,
   "id": "af1fc82f",
   "metadata": {},
   "outputs": [
    {
     "data": {
      "text/plain": [
       "((214973, 2), 214973)"
      ]
     },
     "execution_count": 145,
     "metadata": {},
     "output_type": "execute_result"
    }
   ],
   "source": [
    "df_clean = df_clean.drop_duplicates()\n",
    "df_clean.shape, len(df_clean.speaker_text.unique())"
   ]
  },
  {
   "cell_type": "code",
   "execution_count": 146,
   "id": "60374b69",
   "metadata": {},
   "outputs": [
    {
     "data": {
      "text/plain": [
       "final_emotion\n",
       "neutral     0.372014\n",
       "positive    0.209329\n",
       "sad         0.209329\n",
       "angry       0.209329\n",
       "Name: proportion, dtype: float64"
      ]
     },
     "execution_count": 146,
     "metadata": {},
     "output_type": "execute_result"
    }
   ],
   "source": [
    "df_clean.final_emotion.value_counts(normalize=True)"
   ]
  },
  {
   "cell_type": "code",
   "execution_count": 147,
   "id": "cf6bbdab",
   "metadata": {},
   "outputs": [
    {
     "data": {
      "text/plain": [
       "final_emotion\n",
       "neutral     79973\n",
       "positive    45000\n",
       "sad         45000\n",
       "angry       45000\n",
       "Name: count, dtype: int64"
      ]
     },
     "execution_count": 147,
     "metadata": {},
     "output_type": "execute_result"
    }
   ],
   "source": [
    "df_clean.final_emotion.value_counts()"
   ]
  },
  {
   "cell_type": "code",
   "execution_count": null,
   "id": "b899fba0",
   "metadata": {},
   "outputs": [
    {
     "name": "stdout",
     "output_type": "stream",
     "text": [
      "Текущее распределение: {'neutral': 79973, 'positive': 45000, 'sad': 45000, 'angry': 45000}\n",
      "Будем генерить до 46000 примеров на класс\n"
     ]
    }
   ],
   "source": [
    "GEN_BATCH    = 10      \n",
    "TARGET_PER_CLASS = 46000 \n",
    "df_orig = df_clean\n",
    "counts  = df_orig[EMOTION].value_counts().to_dict()\n",
    "\n",
    "print(\"Текущее распределение:\", counts)\n",
    "print(\"Будем генерить до\", TARGET_PER_CLASS, \"примеров на класс\")"
   ]
  },
  {
   "cell_type": "code",
   "execution_count": null,
   "id": "1c48b3fe",
   "metadata": {},
   "outputs": [
    {
     "name": "stdout",
     "output_type": "stream",
     "text": [
      "\n",
      "Класс «positive»: нужно дополнить 1000 примеров\n"
     ]
    },
    {
     "name": "stderr",
     "output_type": "stream",
     "text": [
      "positive: 100%|██████████| 1000/1000 [09:36<00:00,  1.73it/s]\n"
     ]
    },
    {
     "name": "stdout",
     "output_type": "stream",
     "text": [
      "\n",
      "Класс «sad»: нужно дополнить 1000 примеров\n"
     ]
    },
    {
     "name": "stderr",
     "output_type": "stream",
     "text": [
      "sad: 100%|██████████| 1000/1000 [07:05<00:00,  2.35it/s]\n"
     ]
    },
    {
     "name": "stdout",
     "output_type": "stream",
     "text": [
      "\n",
      "Класс «angry»: нужно дополнить 1000 примеров\n"
     ]
    },
    {
     "name": "stderr",
     "output_type": "stream",
     "text": [
      "angry: 100%|██████████| 1000/1000 [07:58<00:00,  2.09it/s]\n"
     ]
    },
    {
     "name": "stdout",
     "output_type": "stream",
     "text": [
      "(217973, 2) 217973\n"
     ]
    },
    {
     "data": {
      "text/plain": [
       "final_emotion\n",
       "neutral     0.366894\n",
       "positive    0.211035\n",
       "sad         0.211035\n",
       "angry       0.211035\n",
       "Name: proportion, dtype: float64"
      ]
     },
     "execution_count": 149,
     "metadata": {},
     "output_type": "execute_result"
    }
   ],
   "source": [
    "from tqdm import tqdm\n",
    "\n",
    "seen_texts = set(df_orig[TEXT].tolist())\n",
    "\n",
    "new_rows = []\n",
    "\n",
    "for emotion, cnt in counts.items():\n",
    "    need = TARGET_PER_CLASS - cnt\n",
    "    if need <= 0:\n",
    "        continue\n",
    "\n",
    "    few_shot = df_orig[df_orig[EMOTION] == emotion][TEXT] \\\n",
    "                  .sample(3, random_state=42).tolist()\n",
    "\n",
    "    print(f\"\\nКласс «{emotion}»: нужно дополнить {need} примеров\")\n",
    "    pbar = tqdm(total=need, desc=emotion)\n",
    "\n",
    "    while need > 0:\n",
    "        batch = min(GEN_BATCH, need)\n",
    "\n",
    "        prompt  = f\"Ниже примеры высказываний, выражающих эмоцию «{emotion}» (на русском):\\n\"\n",
    "        for txt in few_shot:\n",
    "            prompt += f\"- «{txt}»\\n\"\n",
    "        prompt += (\n",
    "            f\"\\nПожалуйста, сгенерируй {batch} новых коротких реплик \"\n",
    "            \"(не более 15 слов каждая) с той же эмоцией и оформи их в виде списка:\\n\"\n",
    "        )\n",
    "        for i in range(1, batch+1):\n",
    "            prompt += f\"{i}. \\n\"\n",
    "\n",
    "        resp = client.chat.completions.create(\n",
    "            model=MODEL,\n",
    "            messages=[{\"role\":\"user\",\"content\":prompt}],\n",
    "        )\n",
    "        text = resp.choices[0].message.content\n",
    "\n",
    "        for line in text.splitlines():\n",
    "            clean = line.lstrip('0123456789. ').strip(' «»\"')\n",
    "            if not clean:\n",
    "                continue\n",
    "\n",
    "            if clean in seen_texts:\n",
    "                continue  \n",
    "            new_rows.append({TEXT: clean, EMOTION: emotion})\n",
    "            seen_texts.add(clean)\n",
    "            need -= 1\n",
    "            pbar.update(1)\n",
    "\n",
    "            if need == 0:\n",
    "                break\n",
    "\n",
    "    pbar.close()\n",
    "\n",
    "df_synthetic = pd.DataFrame(new_rows)\n",
    "df_new = pd.concat([df_clean, df_synthetic])\n",
    "counts = df_new.groupby('speaker_text')['final_emotion'] \\\n",
    "                .nunique() \\\n",
    "                .reset_index(name='n_emotions')\n",
    "\n",
    "good_texts = counts.loc[counts['n_emotions']==1, 'speaker_text']\n",
    "df_clean = df_new[df_new['speaker_text'].isin(good_texts)].copy()\n",
    "df_clean = df_clean.drop_duplicates()\n",
    "print(df_clean.shape, len(df_clean.speaker_text.unique()))\n",
    "df_clean.final_emotion.value_counts(normalize=True)"
   ]
  },
  {
   "cell_type": "code",
   "execution_count": 150,
   "id": "06de9bc8",
   "metadata": {},
   "outputs": [
    {
     "data": {
      "text/plain": [
       "final_emotion\n",
       "neutral     79973\n",
       "positive    46000\n",
       "sad         46000\n",
       "angry       46000\n",
       "Name: count, dtype: int64"
      ]
     },
     "execution_count": 150,
     "metadata": {},
     "output_type": "execute_result"
    }
   ],
   "source": [
    "df_clean.final_emotion.value_counts()"
   ]
  },
  {
   "cell_type": "code",
   "execution_count": null,
   "id": "8f5a14af",
   "metadata": {},
   "outputs": [
    {
     "name": "stdout",
     "output_type": "stream",
     "text": [
      "Текущее распределение: {'neutral': 79973, 'positive': 46000, 'sad': 46000, 'angry': 46000}\n",
      "Будем генерить до 47000 примеров на класс\n",
      "\n",
      "Класс «positive»: нужно дополнить 1000 примеров\n"
     ]
    },
    {
     "name": "stderr",
     "output_type": "stream",
     "text": [
      "positive: 100%|██████████| 1000/1000 [08:53<00:00,  1.87it/s]\n"
     ]
    },
    {
     "name": "stdout",
     "output_type": "stream",
     "text": [
      "\n",
      "Класс «sad»: нужно дополнить 1000 примеров\n"
     ]
    },
    {
     "name": "stderr",
     "output_type": "stream",
     "text": [
      "sad: 100%|██████████| 1000/1000 [06:47<00:00,  2.46it/s]\n"
     ]
    },
    {
     "name": "stdout",
     "output_type": "stream",
     "text": [
      "\n",
      "Класс «angry»: нужно дополнить 1000 примеров\n"
     ]
    },
    {
     "name": "stderr",
     "output_type": "stream",
     "text": [
      "angry: 100%|██████████| 1000/1000 [18:27<00:00,  1.11s/it]\n"
     ]
    },
    {
     "name": "stdout",
     "output_type": "stream",
     "text": [
      "(220973, 2) 220973\n"
     ]
    },
    {
     "data": {
      "text/plain": [
       "final_emotion\n",
       "neutral     0.361913\n",
       "positive    0.212696\n",
       "sad         0.212696\n",
       "angry       0.212696\n",
       "Name: proportion, dtype: float64"
      ]
     },
     "execution_count": 151,
     "metadata": {},
     "output_type": "execute_result"
    }
   ],
   "source": [
    "GEN_BATCH    = 10     \n",
    "TARGET_PER_CLASS = 47000 \n",
    "df_orig = df_clean\n",
    "counts  = df_orig[EMOTION].value_counts().to_dict()\n",
    "\n",
    "print(\"Текущее распределение:\", counts)\n",
    "print(\"Будем генерить до\", TARGET_PER_CLASS, \"примеров на класс\")\n",
    "\n",
    "seen_texts = set(df_orig[TEXT].tolist())\n",
    "\n",
    "new_rows = []\n",
    "\n",
    "for emotion, cnt in counts.items():\n",
    "    need = TARGET_PER_CLASS - cnt\n",
    "    if need <= 0:\n",
    "        continue\n",
    "\n",
    "    few_shot = df_orig[df_orig[EMOTION] == emotion][TEXT] \\\n",
    "                  .sample(3, random_state=42).tolist()\n",
    "\n",
    "    print(f\"\\nКласс «{emotion}»: нужно дополнить {need} примеров\")\n",
    "    pbar = tqdm(total=need, desc=emotion)\n",
    "\n",
    "    while need > 0:\n",
    "        batch = min(GEN_BATCH, need)\n",
    "\n",
    "        prompt  = f\"Ниже примеры высказываний, выражающих эмоцию «{emotion}» (на русском):\\n\"\n",
    "        for txt in few_shot:\n",
    "            prompt += f\"- «{txt}»\\n\"\n",
    "        prompt += (\n",
    "            f\"\\nПожалуйста, сгенерируй {batch} новых коротких реплик \"\n",
    "            \"(не более 15 слов каждая) с той же эмоцией и оформи их в виде списка:\\n\"\n",
    "        )\n",
    "        for i in range(1, batch+1):\n",
    "            prompt += f\"{i}. \\n\"\n",
    "\n",
    "        resp = client.chat.completions.create(\n",
    "            model=MODEL,\n",
    "            messages=[{\"role\":\"user\",\"content\":prompt}],\n",
    "        )\n",
    "        text = resp.choices[0].message.content\n",
    "\n",
    "        for line in text.splitlines():\n",
    "            clean = line.lstrip('0123456789. ').strip(' «»\"')\n",
    "            if not clean:\n",
    "                continue\n",
    "\n",
    "            if clean in seen_texts:\n",
    "                continue  \n",
    "            new_rows.append({TEXT: clean, EMOTION: emotion})\n",
    "            seen_texts.add(clean)\n",
    "            need -= 1\n",
    "            pbar.update(1)\n",
    "\n",
    "            if need == 0:\n",
    "                break\n",
    "\n",
    "    pbar.close()\n",
    "\n",
    "df_synthetic = pd.DataFrame(new_rows)\n",
    "df_new = pd.concat([df_clean, df_synthetic])\n",
    "counts = df_new.groupby('speaker_text')['final_emotion'] \\\n",
    "                .nunique() \\\n",
    "                .reset_index(name='n_emotions')\n",
    "\n",
    "good_texts = counts.loc[counts['n_emotions']==1, 'speaker_text']\n",
    "df_clean = df_new[df_new['speaker_text'].isin(good_texts)].copy()\n",
    "df_clean = df_clean.drop_duplicates()\n",
    "print(df_clean.shape, len(df_clean.speaker_text.unique()))\n",
    "df_clean.final_emotion.value_counts(normalize=True)"
   ]
  },
  {
   "cell_type": "code",
   "execution_count": null,
   "id": "30e018a9",
   "metadata": {},
   "outputs": [],
   "source": [
    "GEN_BATCH    = 10      \n",
    "TARGET_PER_CLASS = 48000 \n",
    "\n",
    "df_orig = df_clean\n",
    "counts  = df_orig[EMOTION].value_counts().to_dict()\n",
    "\n",
    "print(\"Текущее распределение:\", counts)\n",
    "print(\"Будем генерить до\", TARGET_PER_CLASS, \"примеров на класс\")\n",
    "\n",
    "seen_texts = set(df_orig[TEXT].tolist())\n",
    "\n",
    "new_rows = []\n",
    "\n",
    "for emotion, cnt in counts.items():\n",
    "    need = TARGET_PER_CLASS - cnt\n",
    "    if need <= 0:\n",
    "        continue\n",
    "\n",
    "    few_shot = df_orig[df_orig[EMOTION] == emotion][TEXT] \\\n",
    "                  .sample(3, random_state=42).tolist()\n",
    "\n",
    "    print(f\"\\nКласс «{emotion}»: нужно дополнить {need} примеров\")\n",
    "    pbar = tqdm(total=need, desc=emotion)\n",
    "\n",
    "    while need > 0:\n",
    "        batch = min(GEN_BATCH, need)\n",
    "\n",
    "        prompt  = f\"Ниже примеры высказываний, выражающих эмоцию «{emotion}» (на русском):\\n\"\n",
    "        for txt in few_shot:\n",
    "            prompt += f\"- «{txt}»\\n\"\n",
    "        prompt += (\n",
    "            f\"\\nПожалуйста, сгенерируй {batch} новых коротких реплик \"\n",
    "            \"(не более 15 слов каждая) с той же эмоцией и оформи их в виде списка:\\n\"\n",
    "        )\n",
    "        for i in range(1, batch+1):\n",
    "            prompt += f\"{i}. \\n\"\n",
    "\n",
    "        resp = client.chat.completions.create(\n",
    "            model=MODEL,\n",
    "            messages=[{\"role\":\"user\",\"content\":prompt}],\n",
    "        )\n",
    "        text = resp.choices[0].message.content\n",
    "\n",
    "        for line in text.splitlines():\n",
    "            clean = line.lstrip('0123456789. ').strip(' «»\"')\n",
    "            if not clean:\n",
    "                continue\n",
    "\n",
    "            if clean in seen_texts:\n",
    "                continue \n",
    "            new_rows.append({TEXT: clean, EMOTION: emotion})\n",
    "            seen_texts.add(clean)\n",
    "            need -= 1\n",
    "            pbar.update(1)\n",
    "\n",
    "            if need == 0:\n",
    "                break\n",
    "\n",
    "    pbar.close()\n",
    "\n",
    "df_synthetic = pd.DataFrame(new_rows)\n",
    "df_new = pd.concat([df_clean, df_synthetic])\n",
    "counts = df_new.groupby('speaker_text')['final_emotion'] \\\n",
    "                .nunique() \\\n",
    "                .reset_index(name='n_emotions')\n",
    "\n",
    "good_texts = counts.loc[counts['n_emotions']==1, 'speaker_text']\n",
    "df_clean = df_new[df_new['speaker_text'].isin(good_texts)].copy()\n",
    "df_clean = df_clean.drop_duplicates()\n",
    "print(df_clean.shape, len(df_clean.speaker_text.unique()))\n",
    "df_clean.final_emotion.value_counts(normalize=True)"
   ]
  },
  {
   "cell_type": "code",
   "execution_count": null,
   "id": "e79dda4b",
   "metadata": {},
   "outputs": [
    {
     "name": "stdout",
     "output_type": "stream",
     "text": [
      "(223460, 2) 223460\n"
     ]
    },
    {
     "data": {
      "text/plain": [
       "final_emotion\n",
       "neutral     0.357885\n",
       "positive    0.214804\n",
       "sad         0.214804\n",
       "angry       0.212508\n",
       "Name: proportion, dtype: float64"
      ]
     },
     "execution_count": 153,
     "metadata": {},
     "output_type": "execute_result"
    }
   ],
   "source": [
    "df_synthetic = pd.DataFrame(new_rows)\n",
    "df_new = pd.concat([df_clean, df_synthetic])\n",
    "counts = df_new.groupby('speaker_text')['final_emotion'] \\\n",
    "                .nunique() \\\n",
    "                .reset_index(name='n_emotions')\n",
    "\n",
    "good_texts = counts.loc[counts['n_emotions']==1, 'speaker_text']\n",
    "df_clean = df_new[df_new['speaker_text'].isin(good_texts)].copy()\n",
    "df_clean = df_clean.drop_duplicates()\n",
    "print(df_clean.shape, len(df_clean.speaker_text.unique()))\n",
    "df_clean.final_emotion.value_counts(normalize=True)"
   ]
  },
  {
   "cell_type": "code",
   "execution_count": 154,
   "id": "46659651",
   "metadata": {},
   "outputs": [
    {
     "data": {
      "text/plain": [
       "final_emotion\n",
       "neutral     79973\n",
       "positive    48000\n",
       "sad         48000\n",
       "angry       47487\n",
       "Name: count, dtype: int64"
      ]
     },
     "execution_count": 154,
     "metadata": {},
     "output_type": "execute_result"
    }
   ],
   "source": [
    "df_clean.final_emotion.value_counts()"
   ]
  },
  {
   "cell_type": "code",
   "execution_count": null,
   "id": "95a0c014",
   "metadata": {},
   "outputs": [
    {
     "name": "stdout",
     "output_type": "stream",
     "text": [
      "Текущее распределение: {'neutral': 79973, 'positive': 48000, 'sad': 48000, 'angry': 47487}\n",
      "Будем генерить до 48000 примеров на класс\n",
      "\n",
      "Класс «angry»: нужно дополнить 513 примеров\n"
     ]
    },
    {
     "name": "stderr",
     "output_type": "stream",
     "text": [
      "angry:  49%|████▊     | 487/1000 [23:27<24:42,  2.89s/it]\n",
      "angry: 100%|██████████| 513/513 [03:40<00:00,  2.32it/s]\n"
     ]
    },
    {
     "name": "stdout",
     "output_type": "stream",
     "text": [
      "(223973, 2) 223973\n"
     ]
    },
    {
     "data": {
      "text/plain": [
       "final_emotion\n",
       "neutral     0.357065\n",
       "positive    0.214312\n",
       "sad         0.214312\n",
       "angry       0.214312\n",
       "Name: proportion, dtype: float64"
      ]
     },
     "execution_count": 155,
     "metadata": {},
     "output_type": "execute_result"
    }
   ],
   "source": [
    "GEN_BATCH    = 10     \n",
    "TARGET_PER_CLASS = 48000 \n",
    "df_orig = df_clean\n",
    "counts  = df_orig[EMOTION].value_counts().to_dict()\n",
    "\n",
    "print(\"Текущее распределение:\", counts)\n",
    "print(\"Будем генерить до\", TARGET_PER_CLASS, \"примеров на класс\")\n",
    "\n",
    "seen_texts = set(df_orig[TEXT].tolist())\n",
    "\n",
    "new_rows = []\n",
    "\n",
    "for emotion, cnt in counts.items():\n",
    "    need = TARGET_PER_CLASS - cnt\n",
    "    if need <= 0:\n",
    "        continue\n",
    "\n",
    "    few_shot = df_orig[df_orig[EMOTION] == emotion][TEXT] \\\n",
    "                  .sample(3, random_state=42).tolist()\n",
    "\n",
    "    print(f\"\\nКласс «{emotion}»: нужно дополнить {need} примеров\")\n",
    "    pbar = tqdm(total=need, desc=emotion)\n",
    "\n",
    "    while need > 0:\n",
    "        batch = min(GEN_BATCH, need)\n",
    "\n",
    "        prompt  = f\"Ниже примеры высказываний, выражающих эмоцию «{emotion}» (на русском):\\n\"\n",
    "        for txt in few_shot:\n",
    "            prompt += f\"- «{txt}»\\n\"\n",
    "        prompt += (\n",
    "            f\"\\nПожалуйста, сгенерируй {batch} новых коротких реплик \"\n",
    "            \"(не более 15 слов каждая) с той же эмоцией и оформи их в виде списка:\\n\"\n",
    "        )\n",
    "        for i in range(1, batch+1):\n",
    "            prompt += f\"{i}. \\n\"\n",
    "\n",
    "        resp = client.chat.completions.create(\n",
    "            model=MODEL,\n",
    "            messages=[{\"role\":\"user\",\"content\":prompt}],\n",
    "        )\n",
    "        text = resp.choices[0].message.content\n",
    "\n",
    "        for line in text.splitlines():\n",
    "            clean = line.lstrip('0123456789. ').strip(' «»\"')\n",
    "            if not clean:\n",
    "                continue\n",
    "\n",
    "            if clean in seen_texts:\n",
    "                continue  \n",
    "            new_rows.append({TEXT: clean, EMOTION: emotion})\n",
    "            seen_texts.add(clean)\n",
    "            need -= 1\n",
    "            pbar.update(1)\n",
    "\n",
    "            if need == 0:\n",
    "                break\n",
    "\n",
    "    pbar.close()\n",
    "\n",
    "df_synthetic = pd.DataFrame(new_rows)\n",
    "df_new = pd.concat([df_clean, df_synthetic])\n",
    "counts = df_new.groupby('speaker_text')['final_emotion'] \\\n",
    "                .nunique() \\\n",
    "                .reset_index(name='n_emotions')\n",
    "\n",
    "good_texts = counts.loc[counts['n_emotions']==1, 'speaker_text']\n",
    "df_clean = df_new[df_new['speaker_text'].isin(good_texts)].copy()\n",
    "df_clean = df_clean.drop_duplicates()\n",
    "print(df_clean.shape, len(df_clean.speaker_text.unique()))\n",
    "df_clean.final_emotion.value_counts(normalize=True)"
   ]
  },
  {
   "cell_type": "code",
   "execution_count": 156,
   "id": "aff8b4e5",
   "metadata": {},
   "outputs": [
    {
     "data": {
      "text/plain": [
       "final_emotion\n",
       "neutral     79973\n",
       "positive    48000\n",
       "sad         48000\n",
       "angry       48000\n",
       "Name: count, dtype: int64"
      ]
     },
     "execution_count": 156,
     "metadata": {},
     "output_type": "execute_result"
    }
   ],
   "source": [
    "df_clean.final_emotion.value_counts()"
   ]
  },
  {
   "cell_type": "code",
   "execution_count": 157,
   "id": "03ff9f65",
   "metadata": {},
   "outputs": [
    {
     "data": {
      "text/html": [
       "<div>\n",
       "<style scoped>\n",
       "    .dataframe tbody tr th:only-of-type {\n",
       "        vertical-align: middle;\n",
       "    }\n",
       "\n",
       "    .dataframe tbody tr th {\n",
       "        vertical-align: top;\n",
       "    }\n",
       "\n",
       "    .dataframe thead th {\n",
       "        text-align: right;\n",
       "    }\n",
       "</style>\n",
       "<table border=\"1\" class=\"dataframe\">\n",
       "  <thead>\n",
       "    <tr style=\"text-align: right;\">\n",
       "      <th></th>\n",
       "      <th>speaker_text</th>\n",
       "      <th>final_emotion</th>\n",
       "    </tr>\n",
       "  </thead>\n",
       "  <tbody>\n",
       "    <tr>\n",
       "      <th>503</th>\n",
       "      <td>Не надо меня бесить, я не в настроении!</td>\n",
       "      <td>angry</td>\n",
       "    </tr>\n",
       "    <tr>\n",
       "      <th>504</th>\n",
       "      <td>Сколько можно тратить время впустую?!</td>\n",
       "      <td>angry</td>\n",
       "    </tr>\n",
       "    <tr>\n",
       "      <th>505</th>\n",
       "      <td>Ты снова это делаешь?! Это неприемлемо!</td>\n",
       "      <td>angry</td>\n",
       "    </tr>\n",
       "    <tr>\n",
       "      <th>506</th>\n",
       "      <td>Не заставляй меня злиться, я не шучу!</td>\n",
       "      <td>angry</td>\n",
       "    </tr>\n",
       "    <tr>\n",
       "      <th>507</th>\n",
       "      <td>Ты явно не понимаешь, как меня это бесит!</td>\n",
       "      <td>angry</td>\n",
       "    </tr>\n",
       "    <tr>\n",
       "      <th>508</th>\n",
       "      <td>Ты меня бесишь, когда так себя ведёшь!</td>\n",
       "      <td>angry</td>\n",
       "    </tr>\n",
       "    <tr>\n",
       "      <th>509</th>\n",
       "      <td>Я это больше не потерплю, уяснил?.</td>\n",
       "      <td>angry</td>\n",
       "    </tr>\n",
       "    <tr>\n",
       "      <th>510</th>\n",
       "      <td>Достало постоянно тебя уговаривать, действуй уже!</td>\n",
       "      <td>angry</td>\n",
       "    </tr>\n",
       "    <tr>\n",
       "      <th>511</th>\n",
       "      <td>Хватит ссориться, мне это надоело до чертиков!</td>\n",
       "      <td>angry</td>\n",
       "    </tr>\n",
       "    <tr>\n",
       "      <th>512</th>\n",
       "      <td>Мне это надоело, ушел бы ты с глаз долой!</td>\n",
       "      <td>angry</td>\n",
       "    </tr>\n",
       "  </tbody>\n",
       "</table>\n",
       "</div>"
      ],
      "text/plain": [
       "                                          speaker_text final_emotion\n",
       "503            Не надо меня бесить, я не в настроении!         angry\n",
       "504              Сколько можно тратить время впустую?!         angry\n",
       "505            Ты снова это делаешь?! Это неприемлемо!         angry\n",
       "506              Не заставляй меня злиться, я не шучу!         angry\n",
       "507          Ты явно не понимаешь, как меня это бесит!         angry\n",
       "508             Ты меня бесишь, когда так себя ведёшь!         angry\n",
       "509                 Я это больше не потерплю, уяснил?.         angry\n",
       "510  Достало постоянно тебя уговаривать, действуй уже!         angry\n",
       "511     Хватит ссориться, мне это надоело до чертиков!         angry\n",
       "512          Мне это надоело, ушел бы ты с глаз долой!         angry"
      ]
     },
     "execution_count": 157,
     "metadata": {},
     "output_type": "execute_result"
    }
   ],
   "source": [
    "df_clean.tail(10)"
   ]
  },
  {
   "cell_type": "code",
   "execution_count": 158,
   "id": "85320b5a",
   "metadata": {},
   "outputs": [],
   "source": [
    "df_clean.to_csv('C://Users//a.karakuchukova//Desktop//Университет//Диплом//DataSets//dusha.crowd//gpt_oversampled_dusha_crowd.csv')"
   ]
  },
  {
   "cell_type": "code",
   "execution_count": null,
   "id": "39ea638e",
   "metadata": {},
   "outputs": [
    {
     "name": "stdout",
     "output_type": "stream",
     "text": [
      "Текущий максимум: 87574\n"
     ]
    }
   ],
   "source": [
    "GEN_PER_ITER = 5  \n",
    "MAX_ITERS    = 10  \n",
    "\n",
    "df = pd.read_csv(INPUT_CSV)\n",
    "counts = df[EMOTION].value_counts()\n",
    "target = counts.max()\n",
    "print(\"Текущий максимум:\", target)\n",
    "\n",
    "new_rows = []"
   ]
  },
  {
   "cell_type": "code",
   "execution_count": 5,
   "id": "5517de65",
   "metadata": {},
   "outputs": [],
   "source": [
    "df = pd.read_csv('C://Users//a.karakuchukova//Desktop//Университет//Диплом//DataSets//dusha.crowd//gpt_oversampled_dusha_crowd.csv')"
   ]
  },
  {
   "cell_type": "code",
   "execution_count": 7,
   "id": "0f1620ad",
   "metadata": {},
   "outputs": [
    {
     "data": {
      "text/plain": [
       "final_emotion\n",
       "neutral     79973\n",
       "positive    48000\n",
       "sad         48000\n",
       "angry       48000\n",
       "Name: count, dtype: int64"
      ]
     },
     "execution_count": 7,
     "metadata": {},
     "output_type": "execute_result"
    }
   ],
   "source": [
    "df.final_emotion.value_counts()"
   ]
  },
  {
   "cell_type": "code",
   "execution_count": null,
   "id": "68ecdd54",
   "metadata": {},
   "outputs": [
    {
     "name": "stdout",
     "output_type": "stream",
     "text": [
      "Текущее распределение: {'neutral': 79973, 'positive': 48000, 'sad': 48000, 'angry': 48000}\n",
      "Будем генерить до 55000 примеров на класс\n",
      "\n",
      "Класс «positive»: нужно дополнить 7000 примеров\n"
     ]
    },
    {
     "name": "stderr",
     "output_type": "stream",
     "text": [
      "positive: 100%|██████████| 7000/7000 [1:08:19<00:00,  1.71it/s]  \n"
     ]
    },
    {
     "name": "stdout",
     "output_type": "stream",
     "text": [
      "\n",
      "Класс «sad»: нужно дополнить 7000 примеров\n"
     ]
    },
    {
     "name": "stderr",
     "output_type": "stream",
     "text": [
      "sad: 100%|██████████| 7000/7000 [51:57<00:00,  2.25it/s]\n"
     ]
    },
    {
     "name": "stdout",
     "output_type": "stream",
     "text": [
      "\n",
      "Класс «angry»: нужно дополнить 7000 примеров\n"
     ]
    },
    {
     "name": "stderr",
     "output_type": "stream",
     "text": [
      "angry: 100%|██████████| 7000/7000 [1:28:02<00:00,  1.33it/s] \n"
     ]
    },
    {
     "name": "stdout",
     "output_type": "stream",
     "text": [
      "(244973, 3) 244973\n"
     ]
    },
    {
     "data": {
      "text/plain": [
       "final_emotion\n",
       "neutral     0.326456\n",
       "positive    0.224515\n",
       "sad         0.224515\n",
       "angry       0.224515\n",
       "Name: proportion, dtype: float64"
      ]
     },
     "execution_count": 12,
     "metadata": {},
     "output_type": "execute_result"
    }
   ],
   "source": [
    "GEN_BATCH    = 10     \n",
    "TARGET_PER_CLASS = 55000 \n",
    "df_clean=df\n",
    "df_orig = df_clean\n",
    "counts  = df_orig[EMOTION].value_counts().to_dict()\n",
    "\n",
    "print(\"Текущее распределение:\", counts)\n",
    "print(\"Будем генерить до\", TARGET_PER_CLASS, \"примеров на класс\")\n",
    "\n",
    "seen_texts = set(df_orig[TEXT].tolist())\n",
    "\n",
    "new_rows = []\n",
    "\n",
    "for emotion, cnt in counts.items():\n",
    "    need = TARGET_PER_CLASS - cnt\n",
    "    if need <= 0:\n",
    "        continue\n",
    "\n",
    "    few_shot = df_orig[df_orig[EMOTION] == emotion][TEXT] \\\n",
    "                  .sample(3, random_state=42).tolist()\n",
    "\n",
    "    print(f\"\\nКласс «{emotion}»: нужно дополнить {need} примеров\")\n",
    "    pbar = tqdm(total=need, desc=emotion)\n",
    "\n",
    "    while need > 0:\n",
    "        batch = min(GEN_BATCH, need)\n",
    "\n",
    "        prompt  = f\"Ниже примеры высказываний, выражающих эмоцию «{emotion}» (на русском):\\n\"\n",
    "        for txt in few_shot:\n",
    "            prompt += f\"- «{txt}»\\n\"\n",
    "        prompt += (\n",
    "            f\"\\nПожалуйста, сгенерируй {batch} новых коротких реплик \"\n",
    "            \"(не более 15 слов каждая) с той же эмоцией и оформи их в виде списка:\\n\"\n",
    "        )\n",
    "        for i in range(1, batch+1):\n",
    "            prompt += f\"{i}. \\n\"\n",
    "\n",
    "        resp = client.chat.completions.create(\n",
    "            model=MODEL,\n",
    "            messages=[{\"role\":\"user\",\"content\":prompt}],\n",
    "        )\n",
    "        text = resp.choices[0].message.content\n",
    "\n",
    "        for line in text.splitlines():\n",
    "            clean = line.lstrip('0123456789. ').strip(' «»\"')\n",
    "            if not clean:\n",
    "                continue\n",
    "\n",
    "            if clean in seen_texts:\n",
    "                continue \n",
    "            new_rows.append({TEXT: clean, EMOTION: emotion})\n",
    "            seen_texts.add(clean)\n",
    "            need -= 1\n",
    "            pbar.update(1)\n",
    "\n",
    "            if need == 0:\n",
    "                break\n",
    "\n",
    "    pbar.close()\n",
    "\n",
    "df_synthetic = pd.DataFrame(new_rows)\n",
    "df_new = pd.concat([df_clean, df_synthetic])\n",
    "counts = df_new.groupby('speaker_text')['final_emotion'] \\\n",
    "                .nunique() \\\n",
    "                .reset_index(name='n_emotions')\n",
    "\n",
    "good_texts = counts.loc[counts['n_emotions']==1, 'speaker_text']\n",
    "df_clean = df_new[df_new['speaker_text'].isin(good_texts)].copy()\n",
    "df_clean = df_clean.drop_duplicates()\n",
    "print(df_clean.shape, len(df_clean.speaker_text.unique()))\n",
    "df_clean.final_emotion.value_counts(normalize=True)"
   ]
  },
  {
   "cell_type": "code",
   "execution_count": 15,
   "id": "a8e78aa8",
   "metadata": {},
   "outputs": [
    {
     "data": {
      "text/plain": [
       "final_emotion\n",
       "positive    7000\n",
       "sad         7000\n",
       "angry       7000\n",
       "Name: count, dtype: int64"
      ]
     },
     "execution_count": 15,
     "metadata": {},
     "output_type": "execute_result"
    }
   ],
   "source": [
    "df_synthetic.final_emotion.value_counts()"
   ]
  },
  {
   "cell_type": "code",
   "execution_count": 16,
   "id": "83ab5cbd",
   "metadata": {},
   "outputs": [
    {
     "data": {
      "text/plain": [
       "final_emotion\n",
       "neutral     79973\n",
       "positive    55000\n",
       "sad         55000\n",
       "angry       55000\n",
       "Name: count, dtype: int64"
      ]
     },
     "execution_count": 16,
     "metadata": {},
     "output_type": "execute_result"
    }
   ],
   "source": [
    "df_new = pd.concat([df_clean, df_synthetic])\n",
    "df_new.final_emotion.value_counts()"
   ]
  },
  {
   "cell_type": "code",
   "execution_count": 19,
   "id": "e5e84c80",
   "metadata": {},
   "outputs": [
    {
     "data": {
      "text/plain": [
       "final_emotion\n",
       "neutral     79973\n",
       "positive    55000\n",
       "sad         55000\n",
       "angry       55000\n",
       "Name: count, dtype: int64"
      ]
     },
     "execution_count": 19,
     "metadata": {},
     "output_type": "execute_result"
    }
   ],
   "source": [
    "df_clean = df_new.drop_duplicates()\n",
    "df_clean.final_emotion.value_counts()"
   ]
  },
  {
   "cell_type": "code",
   "execution_count": 21,
   "id": "158df63c",
   "metadata": {},
   "outputs": [
    {
     "name": "stdout",
     "output_type": "stream",
     "text": [
      "(244973, 3) 244973\n"
     ]
    }
   ],
   "source": [
    "print(df_clean.shape, len(df_clean.speaker_text.unique()))"
   ]
  },
  {
   "cell_type": "code",
   "execution_count": null,
   "id": "bbd2bd5f",
   "metadata": {},
   "outputs": [
    {
     "name": "stdout",
     "output_type": "stream",
     "text": [
      "Текущее распределение: {'neutral': 79973, 'positive': 55000, 'sad': 55000, 'angry': 55000}\n",
      "Будем генерить до 60000 примеров на класс\n",
      "\n",
      "Класс «positive»: нужно дополнить 5000 примеров\n"
     ]
    },
    {
     "name": "stderr",
     "output_type": "stream",
     "text": [
      "positive:   1%|          | 75/12000 [04:53<12:56:44,  3.91s/it]\n",
      "positive: 100%|██████████| 5000/5000 [57:51<00:00,  1.44it/s]\n"
     ]
    },
    {
     "name": "stdout",
     "output_type": "stream",
     "text": [
      "\n",
      "Класс «sad»: нужно дополнить 5000 примеров\n"
     ]
    },
    {
     "name": "stderr",
     "output_type": "stream",
     "text": [
      "sad: 100%|██████████| 5000/5000 [56:58<00:00,  1.46it/s]  \n"
     ]
    },
    {
     "name": "stdout",
     "output_type": "stream",
     "text": [
      "\n",
      "Класс «angry»: нужно дополнить 5000 примеров\n"
     ]
    },
    {
     "name": "stderr",
     "output_type": "stream",
     "text": [
      "angry: 100%|██████████| 5000/5000 [54:28<00:00,  1.53it/s]   \n"
     ]
    },
    {
     "name": "stdout",
     "output_type": "stream",
     "text": [
      "(259973, 3) 259973\n"
     ]
    },
    {
     "data": {
      "text/plain": [
       "final_emotion\n",
       "neutral     0.307620\n",
       "positive    0.230793\n",
       "sad         0.230793\n",
       "angry       0.230793\n",
       "Name: proportion, dtype: float64"
      ]
     },
     "execution_count": 22,
     "metadata": {},
     "output_type": "execute_result"
    }
   ],
   "source": [
    "GEN_BATCH    = 10     \n",
    "TARGET_PER_CLASS = 60000 \n",
    "\n",
    "df_orig = df_clean\n",
    "counts  = df_orig[EMOTION].value_counts().to_dict()\n",
    "\n",
    "print(\"Текущее распределение:\", counts)\n",
    "print(\"Будем генерить до\", TARGET_PER_CLASS, \"примеров на класс\")\n",
    "\n",
    "seen_texts = set(df_orig[TEXT].tolist())\n",
    "\n",
    "new_rows = []\n",
    "\n",
    "for emotion, cnt in counts.items():\n",
    "    need = TARGET_PER_CLASS - cnt\n",
    "    if need <= 0:\n",
    "        continue\n",
    "\n",
    "    few_shot = df_orig[df_orig[EMOTION] == emotion][TEXT] \\\n",
    "                  .sample(3, random_state=42).tolist()\n",
    "\n",
    "    print(f\"\\nКласс «{emotion}»: нужно дополнить {need} примеров\")\n",
    "    pbar = tqdm(total=need, desc=emotion)\n",
    "\n",
    "    while need > 0:\n",
    "        batch = min(GEN_BATCH, need)\n",
    "\n",
    "        prompt  = f\"Ниже примеры высказываний, выражающих эмоцию «{emotion}» (на русском):\\n\"\n",
    "        for txt in few_shot:\n",
    "            prompt += f\"- «{txt}»\\n\"\n",
    "        prompt += (\n",
    "            f\"\\nПожалуйста, сгенерируй {batch} новых коротких реплик \"\n",
    "            \"(не более 15 слов каждая) с той же эмоцией и оформи их в виде списка:\\n\"\n",
    "        )\n",
    "        for i in range(1, batch+1):\n",
    "            prompt += f\"{i}. \\n\"\n",
    "\n",
    "        resp = client.chat.completions.create(\n",
    "            model=MODEL,\n",
    "            messages=[{\"role\":\"user\",\"content\":prompt}],\n",
    "        )\n",
    "        text = resp.choices[0].message.content\n",
    "\n",
    "        for line in text.splitlines():\n",
    "            clean = line.lstrip('0123456789. ').strip(' «»\"')\n",
    "            if not clean:\n",
    "                continue\n",
    "\n",
    "            if clean in seen_texts:\n",
    "                continue \n",
    "            new_rows.append({TEXT: clean, EMOTION: emotion})\n",
    "            seen_texts.add(clean)\n",
    "            need -= 1\n",
    "            pbar.update(1)\n",
    "\n",
    "            if need == 0:\n",
    "                break\n",
    "\n",
    "    pbar.close()\n",
    "\n",
    "df_synthetic = pd.DataFrame(new_rows)\n",
    "df_new = pd.concat([df_clean, df_synthetic])\n",
    "counts = df_new.groupby('speaker_text')['final_emotion'] \\\n",
    "                .nunique() \\\n",
    "                .reset_index(name='n_emotions')\n",
    "\n",
    "good_texts = counts.loc[counts['n_emotions']==1, 'speaker_text']\n",
    "df_clean = df_new[df_new['speaker_text'].isin(good_texts)].copy()\n",
    "df_clean = df_clean.drop_duplicates()\n",
    "print(df_clean.shape, len(df_clean.speaker_text.unique()))\n",
    "df_clean.final_emotion.value_counts(normalize=True)"
   ]
  },
  {
   "cell_type": "code",
   "execution_count": 23,
   "id": "8e1357db",
   "metadata": {},
   "outputs": [
    {
     "data": {
      "text/plain": [
       "final_emotion\n",
       "neutral     79973\n",
       "positive    60000\n",
       "sad         60000\n",
       "angry       60000\n",
       "Name: count, dtype: int64"
      ]
     },
     "execution_count": 23,
     "metadata": {},
     "output_type": "execute_result"
    }
   ],
   "source": [
    "df_clean.final_emotion.value_counts()"
   ]
  },
  {
   "cell_type": "code",
   "execution_count": 25,
   "id": "cd529bc9",
   "metadata": {},
   "outputs": [],
   "source": [
    "df_clean.to_csv('C://Users//a.karakuchukova//Desktop//Университет//Диплом//DataSets//dusha.crowd//gpt_oversampled_dusha_crowd.csv')"
   ]
  },
  {
   "cell_type": "code",
   "execution_count": null,
   "id": "52f68751",
   "metadata": {},
   "outputs": [],
   "source": []
  }
 ],
 "metadata": {
  "kernelspec": {
   "display_name": "base",
   "language": "python",
   "name": "python3"
  },
  "language_info": {
   "codemirror_mode": {
    "name": "ipython",
    "version": 3
   },
   "file_extension": ".py",
   "mimetype": "text/x-python",
   "name": "python",
   "nbconvert_exporter": "python",
   "pygments_lexer": "ipython3",
   "version": "3.12.4"
  }
 },
 "nbformat": 4,
 "nbformat_minor": 5
}
