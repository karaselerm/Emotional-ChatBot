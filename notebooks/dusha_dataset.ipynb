{
 "cells": [
  {
   "cell_type": "markdown",
   "id": "f8860335",
   "metadata": {},
   "source": [
    "# Сохранение csv (train, test)"
   ]
  },
  {
   "cell_type": "code",
   "execution_count": 42,
   "id": "a03d678f",
   "metadata": {},
   "outputs": [],
   "source": [
    "import pandas as pd\n",
    "\n",
    "raw_crowd_test = pd.read_csv(\"C://Users//a.karakuchukova//Downloads//crowd//raw_crowd_test.tsv\", sep=\"\\t\")\n",
    "raw_crowd_train = pd.read_csv(\"C://Users//a.karakuchukova//Downloads//crowd//train//raw_crowd_train.tsv\", sep=\"\\t\")"
   ]
  },
  {
   "cell_type": "code",
   "execution_count": 48,
   "id": "51c53021",
   "metadata": {},
   "outputs": [
    {
     "data": {
      "text/plain": [
       "((78205, 9), (898136, 9))"
      ]
     },
     "execution_count": 48,
     "metadata": {},
     "output_type": "execute_result"
    }
   ],
   "source": [
    "raw_crowd_test.shape, raw_crowd_train.shape"
   ]
  },
  {
   "cell_type": "code",
   "execution_count": 45,
   "id": "4b016932",
   "metadata": {},
   "outputs": [
    {
     "data": {
      "text/plain": [
       "Index(['hash_id', 'audio_path', 'duration', 'annotator_emo', 'golden_emo',\n",
       "       'annotator_id', 'speaker_text', 'speaker_emo', 'source_id'],\n",
       "      dtype='object')"
      ]
     },
     "execution_count": 45,
     "metadata": {},
     "output_type": "execute_result"
    }
   ],
   "source": [
    "raw_crowd_train.columns"
   ]
  },
  {
   "cell_type": "code",
   "execution_count": 46,
   "id": "6a4ebc79",
   "metadata": {},
   "outputs": [
    {
     "data": {
      "text/html": [
       "<div>\n",
       "<style scoped>\n",
       "    .dataframe tbody tr th:only-of-type {\n",
       "        vertical-align: middle;\n",
       "    }\n",
       "\n",
       "    .dataframe tbody tr th {\n",
       "        vertical-align: top;\n",
       "    }\n",
       "\n",
       "    .dataframe thead th {\n",
       "        text-align: right;\n",
       "    }\n",
       "</style>\n",
       "<table border=\"1\" class=\"dataframe\">\n",
       "  <thead>\n",
       "    <tr style=\"text-align: right;\">\n",
       "      <th></th>\n",
       "      <th>hash_id</th>\n",
       "      <th>audio_path</th>\n",
       "      <th>duration</th>\n",
       "      <th>annotator_emo</th>\n",
       "      <th>golden_emo</th>\n",
       "      <th>annotator_id</th>\n",
       "      <th>speaker_text</th>\n",
       "      <th>speaker_emo</th>\n",
       "      <th>source_id</th>\n",
       "    </tr>\n",
       "  </thead>\n",
       "  <tbody>\n",
       "    <tr>\n",
       "      <th>0</th>\n",
       "      <td>9e9961c53ca6eeb440b217e539fbf46c</td>\n",
       "      <td>wavs/9e9961c53ca6eeb440b217e539fbf46c.wav</td>\n",
       "      <td>5.82</td>\n",
       "      <td>neutral</td>\n",
       "      <td>NaN</td>\n",
       "      <td>858305a5450b7bd1288ba0053b1cd1c1</td>\n",
       "      <td>я слушаю</td>\n",
       "      <td>neutral</td>\n",
       "      <td>4282ddc30d71ef420e202e0c60391e9f</td>\n",
       "    </tr>\n",
       "  </tbody>\n",
       "</table>\n",
       "</div>"
      ],
      "text/plain": [
       "                            hash_id  \\\n",
       "0  9e9961c53ca6eeb440b217e539fbf46c   \n",
       "\n",
       "                                  audio_path  duration annotator_emo  \\\n",
       "0  wavs/9e9961c53ca6eeb440b217e539fbf46c.wav      5.82       neutral   \n",
       "\n",
       "   golden_emo                      annotator_id speaker_text speaker_emo  \\\n",
       "0         NaN  858305a5450b7bd1288ba0053b1cd1c1     я слушаю     neutral   \n",
       "\n",
       "                          source_id  \n",
       "0  4282ddc30d71ef420e202e0c60391e9f  "
      ]
     },
     "execution_count": 46,
     "metadata": {},
     "output_type": "execute_result"
    }
   ],
   "source": [
    "raw_crowd_test.head(1)"
   ]
  },
  {
   "cell_type": "code",
   "execution_count": 47,
   "id": "cf096b0f",
   "metadata": {},
   "outputs": [
    {
     "data": {
      "text/html": [
       "<div>\n",
       "<style scoped>\n",
       "    .dataframe tbody tr th:only-of-type {\n",
       "        vertical-align: middle;\n",
       "    }\n",
       "\n",
       "    .dataframe tbody tr th {\n",
       "        vertical-align: top;\n",
       "    }\n",
       "\n",
       "    .dataframe thead th {\n",
       "        text-align: right;\n",
       "    }\n",
       "</style>\n",
       "<table border=\"1\" class=\"dataframe\">\n",
       "  <thead>\n",
       "    <tr style=\"text-align: right;\">\n",
       "      <th></th>\n",
       "      <th>hash_id</th>\n",
       "      <th>audio_path</th>\n",
       "      <th>duration</th>\n",
       "      <th>annotator_emo</th>\n",
       "      <th>golden_emo</th>\n",
       "      <th>annotator_id</th>\n",
       "      <th>speaker_text</th>\n",
       "      <th>speaker_emo</th>\n",
       "      <th>source_id</th>\n",
       "    </tr>\n",
       "  </thead>\n",
       "  <tbody>\n",
       "    <tr>\n",
       "      <th>0</th>\n",
       "      <td>475e76f77ac1ed7cabafca740b15b32a</td>\n",
       "      <td>wavs/475e76f77ac1ed7cabafca740b15b32a.wav</td>\n",
       "      <td>2.453</td>\n",
       "      <td>angry</td>\n",
       "      <td>NaN</td>\n",
       "      <td>858305a5450b7bd1288ba0053b1cd1c1</td>\n",
       "      <td>не надо не надо не надо не надо</td>\n",
       "      <td>angry</td>\n",
       "      <td>fa136da095807ea6cd18dd6e2f58d4d0</td>\n",
       "    </tr>\n",
       "  </tbody>\n",
       "</table>\n",
       "</div>"
      ],
      "text/plain": [
       "                            hash_id  \\\n",
       "0  475e76f77ac1ed7cabafca740b15b32a   \n",
       "\n",
       "                                  audio_path  duration annotator_emo  \\\n",
       "0  wavs/475e76f77ac1ed7cabafca740b15b32a.wav     2.453         angry   \n",
       "\n",
       "   golden_emo                      annotator_id  \\\n",
       "0         NaN  858305a5450b7bd1288ba0053b1cd1c1   \n",
       "\n",
       "                      speaker_text speaker_emo  \\\n",
       "0  не надо не надо не надо не надо       angry   \n",
       "\n",
       "                          source_id  \n",
       "0  fa136da095807ea6cd18dd6e2f58d4d0  "
      ]
     },
     "execution_count": 47,
     "metadata": {},
     "output_type": "execute_result"
    }
   ],
   "source": [
    "raw_crowd_train.head(1)"
   ]
  },
  {
   "cell_type": "code",
   "execution_count": 44,
   "id": "df0204e1",
   "metadata": {},
   "outputs": [
    {
     "data": {
      "text/plain": [
       "16372"
      ]
     },
     "execution_count": 44,
     "metadata": {},
     "output_type": "execute_result"
    }
   ],
   "source": [
    "len(raw_crowd_test.speaker_text.unique())"
   ]
  },
  {
   "cell_type": "code",
   "execution_count": 43,
   "id": "91067429",
   "metadata": {},
   "outputs": [
    {
     "data": {
      "text/plain": [
       "122960"
      ]
     },
     "execution_count": 43,
     "metadata": {},
     "output_type": "execute_result"
    }
   ],
   "source": [
    "len(raw_crowd_train.speaker_text.unique())"
   ]
  },
  {
   "cell_type": "code",
   "execution_count": 50,
   "id": "7e9f989b",
   "metadata": {},
   "outputs": [],
   "source": [
    "crowd_train = raw_crowd_train[['annotator_emo', 'speaker_text', 'speaker_emo']].drop_duplicates().dropna()\n",
    "crowd_test = raw_crowd_test[['annotator_emo', 'speaker_text', 'speaker_emo']].drop_duplicates().dropna()"
   ]
  },
  {
   "cell_type": "code",
   "execution_count": 55,
   "id": "c61a7be4",
   "metadata": {},
   "outputs": [
    {
     "data": {
      "text/plain": [
       "(['angry', 'neutral', 'other', 'positive', 'sad'],\n",
       " ['angry', 'neutral', 'other', 'positive', 'sad'])"
      ]
     },
     "execution_count": 55,
     "metadata": {},
     "output_type": "execute_result"
    }
   ],
   "source": [
    "sorted(crowd_train.annotator_emo.unique()), sorted(crowd_test.annotator_emo.unique())"
   ]
  },
  {
   "cell_type": "code",
   "execution_count": 56,
   "id": "6c238318",
   "metadata": {},
   "outputs": [
    {
     "data": {
      "text/plain": [
       "(122959, 16371)"
      ]
     },
     "execution_count": 56,
     "metadata": {},
     "output_type": "execute_result"
    }
   ],
   "source": [
    "len(crowd_train.speaker_text.unique()), len(crowd_test.speaker_text.unique())"
   ]
  },
  {
   "cell_type": "code",
   "execution_count": null,
   "id": "9eb97834",
   "metadata": {},
   "outputs": [],
   "source": [
    "crowd_train.to_csv('crowd_train.csv')\n",
    "crowd_test.to_csv('crowd_test.csv')"
   ]
  },
  {
   "cell_type": "markdown",
   "id": "75c835a1",
   "metadata": {},
   "source": [
    "# Проблема: некоторым speaker_text соотвествуют несколько эмоций"
   ]
  },
  {
   "cell_type": "code",
   "execution_count": 57,
   "id": "141dc256",
   "metadata": {},
   "outputs": [
    {
     "data": {
      "text/html": [
       "<div>\n",
       "<style scoped>\n",
       "    .dataframe tbody tr th:only-of-type {\n",
       "        vertical-align: middle;\n",
       "    }\n",
       "\n",
       "    .dataframe tbody tr th {\n",
       "        vertical-align: top;\n",
       "    }\n",
       "\n",
       "    .dataframe thead th {\n",
       "        text-align: right;\n",
       "    }\n",
       "</style>\n",
       "<table border=\"1\" class=\"dataframe\">\n",
       "  <thead>\n",
       "    <tr style=\"text-align: right;\">\n",
       "      <th></th>\n",
       "      <th>speaker_text</th>\n",
       "      <th>annotator_emo</th>\n",
       "    </tr>\n",
       "  </thead>\n",
       "  <tbody>\n",
       "    <tr>\n",
       "      <th>2</th>\n",
       "      <td>2gis брюс ли</td>\n",
       "      <td>2</td>\n",
       "    </tr>\n",
       "    <tr>\n",
       "      <th>5</th>\n",
       "      <td>2gis тобой все в порядке</td>\n",
       "      <td>2</td>\n",
       "    </tr>\n",
       "    <tr>\n",
       "      <th>7</th>\n",
       "      <td>a a a a a a good man man</td>\n",
       "      <td>2</td>\n",
       "    </tr>\n",
       "    <tr>\n",
       "      <th>11</th>\n",
       "      <td>a r rahman dream zone fire</td>\n",
       "      <td>2</td>\n",
       "    </tr>\n",
       "    <tr>\n",
       "      <th>13</th>\n",
       "      <td>a давай веселей мне рассказал шуточки</td>\n",
       "      <td>2</td>\n",
       "    </tr>\n",
       "    <tr>\n",
       "      <th>...</th>\n",
       "      <td>...</td>\n",
       "      <td>...</td>\n",
       "    </tr>\n",
       "    <tr>\n",
       "      <th>122951</th>\n",
       "      <td>яхта парус</td>\n",
       "      <td>3</td>\n",
       "    </tr>\n",
       "    <tr>\n",
       "      <th>122953</th>\n",
       "      <td>яхты обзор</td>\n",
       "      <td>2</td>\n",
       "    </tr>\n",
       "    <tr>\n",
       "      <th>122955</th>\n",
       "      <td>яцко три аккорда</td>\n",
       "      <td>2</td>\n",
       "    </tr>\n",
       "    <tr>\n",
       "      <th>122956</th>\n",
       "      <td>ячейки из под яиц</td>\n",
       "      <td>3</td>\n",
       "    </tr>\n",
       "    <tr>\n",
       "      <th>122957</th>\n",
       "      <td>яшин сериал ютуб</td>\n",
       "      <td>3</td>\n",
       "    </tr>\n",
       "  </tbody>\n",
       "</table>\n",
       "<p>74676 rows × 2 columns</p>\n",
       "</div>"
      ],
      "text/plain": [
       "                                 speaker_text  annotator_emo\n",
       "2                                2gis брюс ли              2\n",
       "5                    2gis тобой все в порядке              2\n",
       "7                    a a a a a a good man man              2\n",
       "11                 a r rahman dream zone fire              2\n",
       "13      a давай веселей мне рассказал шуточки              2\n",
       "...                                       ...            ...\n",
       "122951                             яхта парус              3\n",
       "122953                             яхты обзор              2\n",
       "122955                       яцко три аккорда              2\n",
       "122956                      ячейки из под яиц              3\n",
       "122957                       яшин сериал ютуб              3\n",
       "\n",
       "[74676 rows x 2 columns]"
      ]
     },
     "execution_count": 57,
     "metadata": {},
     "output_type": "execute_result"
    }
   ],
   "source": [
    "crowd_train.groupby('speaker_text').agg({'annotator_emo':'count'}).reset_index()[crowd_train.groupby('speaker_text').agg({'annotator_emo':'count'}).reset_index().annotator_emo > 1]"
   ]
  },
  {
   "cell_type": "code",
   "execution_count": 58,
   "id": "76718cdb",
   "metadata": {},
   "outputs": [
    {
     "data": {
      "text/html": [
       "<div>\n",
       "<style scoped>\n",
       "    .dataframe tbody tr th:only-of-type {\n",
       "        vertical-align: middle;\n",
       "    }\n",
       "\n",
       "    .dataframe tbody tr th {\n",
       "        vertical-align: top;\n",
       "    }\n",
       "\n",
       "    .dataframe thead th {\n",
       "        text-align: right;\n",
       "    }\n",
       "</style>\n",
       "<table border=\"1\" class=\"dataframe\">\n",
       "  <thead>\n",
       "    <tr style=\"text-align: right;\">\n",
       "      <th></th>\n",
       "      <th>annotator_emo</th>\n",
       "      <th>speaker_text</th>\n",
       "      <th>speaker_emo</th>\n",
       "    </tr>\n",
       "  </thead>\n",
       "  <tbody>\n",
       "    <tr>\n",
       "      <th>275374</th>\n",
       "      <td>neutral</td>\n",
       "      <td>2gis брюс ли</td>\n",
       "      <td>angry</td>\n",
       "    </tr>\n",
       "    <tr>\n",
       "      <th>276782</th>\n",
       "      <td>positive</td>\n",
       "      <td>2gis брюс ли</td>\n",
       "      <td>angry</td>\n",
       "    </tr>\n",
       "  </tbody>\n",
       "</table>\n",
       "</div>"
      ],
      "text/plain": [
       "       annotator_emo  speaker_text speaker_emo\n",
       "275374       neutral  2gis брюс ли       angry\n",
       "276782      positive  2gis брюс ли       angry"
      ]
     },
     "execution_count": 58,
     "metadata": {},
     "output_type": "execute_result"
    }
   ],
   "source": [
    "crowd_train[crowd_train.speaker_text == '2gis брюс ли']"
   ]
  },
  {
   "cell_type": "code",
   "execution_count": 59,
   "id": "a9df4123",
   "metadata": {},
   "outputs": [],
   "source": [
    "duplicates = crowd_train.groupby(\"speaker_text\")[\"annotator_emo\"].nunique()\n",
    "conflicting_texts = duplicates[duplicates > 1].index\n",
    "conflict_set = set(conflicting_texts)\n",
    "df_clean = crowd_train[~crowd_train[\"speaker_text\"].isin(conflict_set)]"
   ]
  },
  {
   "cell_type": "code",
   "execution_count": 61,
   "id": "0163097c",
   "metadata": {},
   "outputs": [
    {
     "data": {
      "text/plain": [
       "annotator_emo\n",
       "neutral     45694\n",
       "angry        5437\n",
       "positive     4682\n",
       "sad          3672\n",
       "other         422\n",
       "Name: count, dtype: int64"
      ]
     },
     "execution_count": 61,
     "metadata": {},
     "output_type": "execute_result"
    }
   ],
   "source": [
    "df_clean.annotator_emo.value_counts()"
   ]
  },
  {
   "cell_type": "code",
   "execution_count": 62,
   "id": "ab3e3be7",
   "metadata": {},
   "outputs": [
    {
     "data": {
      "text/plain": [
       "annotator_emo\n",
       "neutral     134695\n",
       "sad          49607\n",
       "positive     27967\n",
       "angry        20348\n",
       "other         4352\n",
       "Name: count, dtype: int64"
      ]
     },
     "execution_count": 62,
     "metadata": {},
     "output_type": "execute_result"
    }
   ],
   "source": [
    "crowd_train.annotator_emo.value_counts()"
   ]
  },
  {
   "cell_type": "code",
   "execution_count": null,
   "id": "ba501c05",
   "metadata": {},
   "outputs": [
    {
     "data": {
      "text/html": [
       "<div>\n",
       "<style scoped>\n",
       "    .dataframe tbody tr th:only-of-type {\n",
       "        vertical-align: middle;\n",
       "    }\n",
       "\n",
       "    .dataframe tbody tr th {\n",
       "        vertical-align: top;\n",
       "    }\n",
       "\n",
       "    .dataframe thead th {\n",
       "        text-align: right;\n",
       "    }\n",
       "</style>\n",
       "<table border=\"1\" class=\"dataframe\">\n",
       "  <thead>\n",
       "    <tr style=\"text-align: right;\">\n",
       "      <th></th>\n",
       "      <th>speaker_text</th>\n",
       "      <th>final_emotion</th>\n",
       "      <th>label_confidence</th>\n",
       "    </tr>\n",
       "  </thead>\n",
       "  <tbody>\n",
       "    <tr>\n",
       "      <th>0</th>\n",
       "      <td>2drots литвин</td>\n",
       "      <td>neutral</td>\n",
       "      <td>1.0</td>\n",
       "    </tr>\n",
       "    <tr>\n",
       "      <th>1</th>\n",
       "      <td>2gis</td>\n",
       "      <td>neutral</td>\n",
       "      <td>1.0</td>\n",
       "    </tr>\n",
       "  </tbody>\n",
       "</table>\n",
       "</div>"
      ],
      "text/plain": [
       "    speaker_text final_emotion  label_confidence\n",
       "0  2drots литвин       neutral               1.0\n",
       "1           2gis       neutral               1.0"
      ]
     },
     "execution_count": 93,
     "metadata": {},
     "output_type": "execute_result"
    }
   ],
   "source": [
    "label_distribution = (\n",
    "    crowd_train.groupby(\"speaker_text\")[\"annotator_emo\"]\n",
    "    .value_counts(normalize=True)\n",
    "    .rename(\"confidence\")\n",
    "    .reset_index()\n",
    ")\n",
    "\n",
    "label_agg = label_distribution.groupby(\"speaker_text\").agg({\n",
    "    \"annotator_emo\": \"first\",  \n",
    "    \"confidence\": \"max\"      \n",
    "}).reset_index()\n",
    "\n",
    "label_agg.columns = [\"speaker_text\", \"final_emotion\", \"label_confidence\"]\n",
    "label_agg.head(2)"
   ]
  },
  {
   "cell_type": "code",
   "execution_count": 94,
   "id": "a4d76668",
   "metadata": {},
   "outputs": [
    {
     "data": {
      "text/plain": [
       "array([1.        , 0.5       , 0.33333333, 0.25      , 0.2       ,\n",
       "       0.66666667, 0.4       , 0.6       , 0.42857143, 0.75      ,\n",
       "       0.28571429, 0.375     ])"
      ]
     },
     "execution_count": 94,
     "metadata": {},
     "output_type": "execute_result"
    }
   ],
   "source": [
    "label_agg.label_confidence.unique()"
   ]
  },
  {
   "cell_type": "code",
   "execution_count": 95,
   "id": "14beba4b",
   "metadata": {},
   "outputs": [
    {
     "data": {
      "text/plain": [
       "(122959, 3)"
      ]
     },
     "execution_count": 95,
     "metadata": {},
     "output_type": "execute_result"
    }
   ],
   "source": [
    "label_agg.shape"
   ]
  },
  {
   "cell_type": "code",
   "execution_count": null,
   "id": "49815ccb",
   "metadata": {},
   "outputs": [
    {
     "name": "stdout",
     "output_type": "stream",
     "text": [
      "(122959, 3)\n",
      "(122959, 3)\n",
      "(122257, 3)\n"
     ]
    }
   ],
   "source": [
    "df_train = label_agg\n",
    "print(df_train.shape)\n",
    "df_train = df_train[df_train[\"speaker_text\"].notna()]\n",
    "print(df_train.shape)\n",
    "df_train = df_train[df_train[\"speaker_text\"].str.len() >= 5]\n",
    "print(df_train.shape)"
   ]
  },
  {
   "cell_type": "code",
   "execution_count": null,
   "id": "8023c729",
   "metadata": {},
   "outputs": [
    {
     "name": "stdout",
     "output_type": "stream",
     "text": [
      "(114153, 3)\n"
     ]
    }
   ],
   "source": [
    "df_train = df_train[df_train[\"label_confidence\"] >= 0.5]\n",
    "print(df_train.shape)"
   ]
  },
  {
   "cell_type": "code",
   "execution_count": 98,
   "id": "005e82d1",
   "metadata": {},
   "outputs": [
    {
     "data": {
      "text/plain": [
       "final_emotion\n",
       "neutral     0.667122\n",
       "sad         0.139366\n",
       "positive    0.102547\n",
       "angry       0.081802\n",
       "other       0.009163\n",
       "Name: proportion, dtype: float64"
      ]
     },
     "execution_count": 98,
     "metadata": {},
     "output_type": "execute_result"
    }
   ],
   "source": [
    "df_train[\"final_emotion\"].value_counts(normalize=True)"
   ]
  },
  {
   "cell_type": "code",
   "execution_count": null,
   "id": "6aa4e037",
   "metadata": {},
   "outputs": [
    {
     "data": {
      "text/plain": [
       "final_emotion\n",
       "neutral     0.676285\n",
       "sad         0.139366\n",
       "positive    0.102547\n",
       "angry       0.081802\n",
       "Name: proportion, dtype: float64"
      ]
     },
     "execution_count": 99,
     "metadata": {},
     "output_type": "execute_result"
    }
   ],
   "source": [
    "df_train[\"final_emotion\"] = df_train[\"final_emotion\"].replace(\"other\", \"neutral\")\n",
    "\n",
    "df_train[\"final_emotion\"].value_counts(normalize=True)"
   ]
  },
  {
   "cell_type": "code",
   "execution_count": 100,
   "id": "5a847b71",
   "metadata": {},
   "outputs": [],
   "source": [
    "df_train.drop(columns = 'label_confidence', inplace = True)"
   ]
  },
  {
   "cell_type": "code",
   "execution_count": 101,
   "id": "77ca81b8",
   "metadata": {},
   "outputs": [],
   "source": [
    "df_train.to_csv('dusha_crowd_train_processed.csv')"
   ]
  },
  {
   "cell_type": "code",
   "execution_count": null,
   "id": "e41bbad8",
   "metadata": {},
   "outputs": [
    {
     "data": {
      "text/html": [
       "<div>\n",
       "<style scoped>\n",
       "    .dataframe tbody tr th:only-of-type {\n",
       "        vertical-align: middle;\n",
       "    }\n",
       "\n",
       "    .dataframe tbody tr th {\n",
       "        vertical-align: top;\n",
       "    }\n",
       "\n",
       "    .dataframe thead th {\n",
       "        text-align: right;\n",
       "    }\n",
       "</style>\n",
       "<table border=\"1\" class=\"dataframe\">\n",
       "  <thead>\n",
       "    <tr style=\"text-align: right;\">\n",
       "      <th></th>\n",
       "      <th>speaker_text</th>\n",
       "      <th>final_emotion</th>\n",
       "      <th>label_confidence</th>\n",
       "    </tr>\n",
       "  </thead>\n",
       "  <tbody>\n",
       "    <tr>\n",
       "      <th>0</th>\n",
       "      <td>2gis брюс ли</td>\n",
       "      <td>neutral</td>\n",
       "      <td>0.5</td>\n",
       "    </tr>\n",
       "    <tr>\n",
       "      <th>1</th>\n",
       "      <td>a моей жене нет</td>\n",
       "      <td>other</td>\n",
       "      <td>0.5</td>\n",
       "    </tr>\n",
       "  </tbody>\n",
       "</table>\n",
       "</div>"
      ],
      "text/plain": [
       "      speaker_text final_emotion  label_confidence\n",
       "0     2gis брюс ли       neutral               0.5\n",
       "1  a моей жене нет         other               0.5"
      ]
     },
     "execution_count": 102,
     "metadata": {},
     "output_type": "execute_result"
    }
   ],
   "source": [
    "label_distribution = (\n",
    "    crowd_test.groupby(\"speaker_text\")[\"annotator_emo\"]\n",
    "    .value_counts(normalize=True)\n",
    "    .rename(\"confidence\")\n",
    "    .reset_index()\n",
    ")\n",
    "\n",
    "label_agg = label_distribution.groupby(\"speaker_text\").agg({\n",
    "    \"annotator_emo\": \"first\",   \n",
    "    \"confidence\": \"max\"       \n",
    "}).reset_index()\n",
    "\n",
    "label_agg.columns = [\"speaker_text\", \"final_emotion\", \"label_confidence\"]\n",
    "label_agg.head(2)"
   ]
  },
  {
   "cell_type": "code",
   "execution_count": null,
   "id": "3f3e6daf",
   "metadata": {},
   "outputs": [
    {
     "name": "stdout",
     "output_type": "stream",
     "text": [
      "(16371, 3)\n",
      "(16371, 3)\n",
      "(16294, 3)\n"
     ]
    }
   ],
   "source": [
    "df_test = label_agg\n",
    "print(df_test.shape)\n",
    "df_test = df_test[df_test[\"speaker_text\"].notna()]\n",
    "print(df_test.shape)\n",
    "df_test = df_test[df_test[\"speaker_text\"].str.len() >= 5]\n",
    "print(df_test.shape)"
   ]
  },
  {
   "cell_type": "code",
   "execution_count": 104,
   "id": "30c4cb46",
   "metadata": {},
   "outputs": [
    {
     "data": {
      "text/plain": [
       "final_emotion\n",
       "neutral     0.632994\n",
       "sad         0.142691\n",
       "angry       0.122069\n",
       "positive    0.089665\n",
       "other       0.012581\n",
       "Name: proportion, dtype: float64"
      ]
     },
     "execution_count": 104,
     "metadata": {},
     "output_type": "execute_result"
    }
   ],
   "source": [
    "df_test[\"final_emotion\"].value_counts(normalize=True)"
   ]
  },
  {
   "cell_type": "code",
   "execution_count": null,
   "id": "39f7e75e",
   "metadata": {},
   "outputs": [
    {
     "name": "stdout",
     "output_type": "stream",
     "text": [
      "(15800, 3)\n"
     ]
    }
   ],
   "source": [
    "df_test = df_test[df_test[\"label_confidence\"] >= 0.5]\n",
    "print(df_test.shape)"
   ]
  },
  {
   "cell_type": "code",
   "execution_count": null,
   "id": "1a159110",
   "metadata": {},
   "outputs": [
    {
     "data": {
      "text/plain": [
       "final_emotion\n",
       "neutral     0.656582\n",
       "sad         0.136772\n",
       "angry       0.118354\n",
       "positive    0.088291\n",
       "Name: proportion, dtype: float64"
      ]
     },
     "execution_count": 106,
     "metadata": {},
     "output_type": "execute_result"
    }
   ],
   "source": [
    "df_test[\"final_emotion\"] = df_test[\"final_emotion\"].replace(\"other\", \"neutral\")\n",
    "\n",
    "df_test[\"final_emotion\"].value_counts(normalize=True)"
   ]
  },
  {
   "cell_type": "code",
   "execution_count": 107,
   "id": "81c7fb36",
   "metadata": {},
   "outputs": [],
   "source": [
    "df_test.drop(columns = 'label_confidence', inplace = True)"
   ]
  },
  {
   "cell_type": "code",
   "execution_count": 108,
   "id": "b7464139",
   "metadata": {},
   "outputs": [
    {
     "data": {
      "text/html": [
       "<div>\n",
       "<style scoped>\n",
       "    .dataframe tbody tr th:only-of-type {\n",
       "        vertical-align: middle;\n",
       "    }\n",
       "\n",
       "    .dataframe tbody tr th {\n",
       "        vertical-align: top;\n",
       "    }\n",
       "\n",
       "    .dataframe thead th {\n",
       "        text-align: right;\n",
       "    }\n",
       "</style>\n",
       "<table border=\"1\" class=\"dataframe\">\n",
       "  <thead>\n",
       "    <tr style=\"text-align: right;\">\n",
       "      <th></th>\n",
       "      <th>speaker_text</th>\n",
       "      <th>final_emotion</th>\n",
       "    </tr>\n",
       "  </thead>\n",
       "  <tbody>\n",
       "    <tr>\n",
       "      <th>0</th>\n",
       "      <td>2gis брюс ли</td>\n",
       "      <td>neutral</td>\n",
       "    </tr>\n",
       "    <tr>\n",
       "      <th>1</th>\n",
       "      <td>a моей жене нет</td>\n",
       "      <td>neutral</td>\n",
       "    </tr>\n",
       "    <tr>\n",
       "      <th>2</th>\n",
       "      <td>a тупой что ли давай зеленоглазое такси</td>\n",
       "      <td>angry</td>\n",
       "    </tr>\n",
       "    <tr>\n",
       "      <th>3</th>\n",
       "      <td>afina да</td>\n",
       "      <td>neutral</td>\n",
       "    </tr>\n",
       "    <tr>\n",
       "      <th>4</th>\n",
       "      <td>afina т</td>\n",
       "      <td>neutral</td>\n",
       "    </tr>\n",
       "    <tr>\n",
       "      <th>...</th>\n",
       "      <td>...</td>\n",
       "      <td>...</td>\n",
       "    </tr>\n",
       "    <tr>\n",
       "      <th>16366</th>\n",
       "      <td>ярослав сумишевский концерт в ялте</td>\n",
       "      <td>neutral</td>\n",
       "    </tr>\n",
       "    <tr>\n",
       "      <th>16367</th>\n",
       "      <td>ярославская еще летом</td>\n",
       "      <td>neutral</td>\n",
       "    </tr>\n",
       "    <tr>\n",
       "      <th>16368</th>\n",
       "      <td>ясно дело ты просто тупой бот</td>\n",
       "      <td>angry</td>\n",
       "    </tr>\n",
       "    <tr>\n",
       "      <th>16369</th>\n",
       "      <td>яхт клуб балтиец</td>\n",
       "      <td>positive</td>\n",
       "    </tr>\n",
       "    <tr>\n",
       "      <th>16370</th>\n",
       "      <td>ящерицы четыре ка</td>\n",
       "      <td>neutral</td>\n",
       "    </tr>\n",
       "  </tbody>\n",
       "</table>\n",
       "<p>15800 rows × 2 columns</p>\n",
       "</div>"
      ],
      "text/plain": [
       "                                  speaker_text final_emotion\n",
       "0                                 2gis брюс ли       neutral\n",
       "1                              a моей жене нет       neutral\n",
       "2      a тупой что ли давай зеленоглазое такси         angry\n",
       "3                                     afina да       neutral\n",
       "4                                      afina т       neutral\n",
       "...                                        ...           ...\n",
       "16366       ярослав сумишевский концерт в ялте       neutral\n",
       "16367                    ярославская еще летом       neutral\n",
       "16368            ясно дело ты просто тупой бот         angry\n",
       "16369                         яхт клуб балтиец      positive\n",
       "16370                        ящерицы четыре ка       neutral\n",
       "\n",
       "[15800 rows x 2 columns]"
      ]
     },
     "execution_count": 108,
     "metadata": {},
     "output_type": "execute_result"
    }
   ],
   "source": [
    "df_test"
   ]
  },
  {
   "cell_type": "code",
   "execution_count": 109,
   "id": "a03518c9",
   "metadata": {},
   "outputs": [],
   "source": [
    "df_test.to_csv('dusha_crowd_test_processed.csv')"
   ]
  },
  {
   "cell_type": "code",
   "execution_count": 110,
   "id": "649aaa80",
   "metadata": {},
   "outputs": [
    {
     "data": {
      "text/plain": [
       "(129953, 2)"
      ]
     },
     "execution_count": 110,
     "metadata": {},
     "output_type": "execute_result"
    }
   ],
   "source": [
    "df = pd.concat([df_train, df_test])\n",
    "df.shape"
   ]
  },
  {
   "cell_type": "code",
   "execution_count": 111,
   "id": "1e755c6a",
   "metadata": {},
   "outputs": [
    {
     "data": {
      "text/plain": [
       "129953"
      ]
     },
     "execution_count": 111,
     "metadata": {},
     "output_type": "execute_result"
    }
   ],
   "source": [
    "df_test.shape[0] + df_train.shape[0]"
   ]
  },
  {
   "cell_type": "code",
   "execution_count": 112,
   "id": "22f22dac",
   "metadata": {},
   "outputs": [],
   "source": [
    "df.to_csv('dusha_crowd_processed.csv')"
   ]
  },
  {
   "cell_type": "code",
   "execution_count": 3,
   "id": "47da05ad",
   "metadata": {},
   "outputs": [],
   "source": [
    "df = pd.read_csv('C://Users//a.karakuchukova//Desktop//Университет//Диплом//DataSets//dusha.crowd//dusha_crowd_processed.csv')"
   ]
  },
  {
   "cell_type": "code",
   "execution_count": 4,
   "id": "d5589387",
   "metadata": {},
   "outputs": [
    {
     "data": {
      "text/html": [
       "<div>\n",
       "<style scoped>\n",
       "    .dataframe tbody tr th:only-of-type {\n",
       "        vertical-align: middle;\n",
       "    }\n",
       "\n",
       "    .dataframe tbody tr th {\n",
       "        vertical-align: top;\n",
       "    }\n",
       "\n",
       "    .dataframe thead th {\n",
       "        text-align: right;\n",
       "    }\n",
       "</style>\n",
       "<table border=\"1\" class=\"dataframe\">\n",
       "  <thead>\n",
       "    <tr style=\"text-align: right;\">\n",
       "      <th></th>\n",
       "      <th>Unnamed: 0</th>\n",
       "      <th>speaker_text</th>\n",
       "      <th>final_emotion</th>\n",
       "    </tr>\n",
       "  </thead>\n",
       "  <tbody>\n",
       "    <tr>\n",
       "      <th>0</th>\n",
       "      <td>0</td>\n",
       "      <td>2drots литвин</td>\n",
       "      <td>neutral</td>\n",
       "    </tr>\n",
       "    <tr>\n",
       "      <th>1</th>\n",
       "      <td>2</td>\n",
       "      <td>2gis брюс ли</td>\n",
       "      <td>positive</td>\n",
       "    </tr>\n",
       "  </tbody>\n",
       "</table>\n",
       "</div>"
      ],
      "text/plain": [
       "   Unnamed: 0   speaker_text final_emotion\n",
       "0           0  2drots литвин       neutral\n",
       "1           2   2gis брюс ли      positive"
      ]
     },
     "execution_count": 4,
     "metadata": {},
     "output_type": "execute_result"
    }
   ],
   "source": [
    "df.head(2)"
   ]
  },
  {
   "cell_type": "code",
   "execution_count": 5,
   "id": "0f286999",
   "metadata": {},
   "outputs": [
    {
     "data": {
      "text/plain": [
       "final_emotion\n",
       "neutral     87574\n",
       "sad         18070\n",
       "positive    13101\n",
       "angry       11208\n",
       "Name: count, dtype: int64"
      ]
     },
     "execution_count": 5,
     "metadata": {},
     "output_type": "execute_result"
    }
   ],
   "source": [
    "df.final_emotion.value_counts()"
   ]
  },
  {
   "cell_type": "code",
   "execution_count": null,
   "id": "6458386a",
   "metadata": {},
   "outputs": [],
   "source": []
  }
 ],
 "metadata": {
  "kernelspec": {
   "display_name": "base",
   "language": "python",
   "name": "python3"
  },
  "language_info": {
   "codemirror_mode": {
    "name": "ipython",
    "version": 3
   },
   "file_extension": ".py",
   "mimetype": "text/x-python",
   "name": "python",
   "nbconvert_exporter": "python",
   "pygments_lexer": "ipython3",
   "version": "3.12.4"
  }
 },
 "nbformat": 4,
 "nbformat_minor": 5
}
